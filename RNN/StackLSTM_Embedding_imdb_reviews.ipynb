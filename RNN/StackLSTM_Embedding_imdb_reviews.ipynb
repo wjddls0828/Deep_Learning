{
  "nbformat": 4,
  "nbformat_minor": 0,
  "metadata": {
    "kernelspec": {
      "name": "python3",
      "display_name": "Python 3"
    },
    "language_info": {
      "codemirror_mode": {
        "name": "ipython",
        "version": 3
      },
      "file_extension": ".py",
      "mimetype": "text/x-python",
      "name": "python",
      "nbconvert_exporter": "python",
      "pygments_lexer": "ipython3",
      "version": "3.6.6"
    },
    "colab": {
      "name": "StackLSTM_Embedding_imdb_reviews",
      "provenance": [],
      "collapsed_sections": []
    },
    "accelerator": "GPU"
  },
  "cells": [
    {
      "cell_type": "markdown",
      "metadata": {
        "id": "hiwEVOV3G3dF"
      },
      "source": [
        "## 적층 LSTM 모델을 이용한 영화리뷰 분류 분석"
      ]
    },
    {
      "cell_type": "code",
      "metadata": {
        "id": "73nNmH04Ag7D"
      },
      "source": [
        "import matplotlib.pyplot as plt\n",
        "\n",
        "import tensorflow as tf\n",
        "from tensorflow.keras.datasets import imdb"
      ],
      "execution_count": 1,
      "outputs": []
    },
    {
      "cell_type": "markdown",
      "metadata": {
        "id": "jJGbMTr8Ag7R"
      },
      "source": [
        "### Step 1-1. Input tensor 와 Target tensor 준비(훈련데이터)\n",
        "* IMDB 영화 리뷰 데이터 down"
      ]
    },
    {
      "cell_type": "code",
      "metadata": {
        "id": "73MqaPo_Ag7R",
        "colab": {
          "base_uri": "https://localhost:8080/"
        },
        "outputId": "619943f3-d803-4fdc-ab38-cbb6474d3f42"
      },
      "source": [
        "(input_train, y_train), (input_test, y_test) = imdb.load_data(num_words=10000)"
      ],
      "execution_count": 2,
      "outputs": [
        {
          "output_type": "stream",
          "name": "stdout",
          "text": [
            "Downloading data from https://storage.googleapis.com/tensorflow/tf-keras-datasets/imdb.npz\n",
            "17465344/17464789 [==============================] - 0s 0us/step\n",
            "17473536/17464789 [==============================] - 0s 0us/step\n"
          ]
        }
      ]
    },
    {
      "cell_type": "markdown",
      "metadata": {
        "id": "jFdUAnJlLTvK"
      },
      "source": [
        "### Step 1-2. 입력 데이터의 전처리 \n",
        "* LSTM 모델에 데이터를 입력하기 위해 시퀀스 데이터의 길이를 통일"
      ]
    },
    {
      "cell_type": "code",
      "metadata": {
        "id": "37iQ2jnz7oD4"
      },
      "source": [
        "from tensorflow.keras.preprocessing import sequence"
      ],
      "execution_count": 3,
      "outputs": []
    },
    {
      "cell_type": "code",
      "metadata": {
        "id": "UvoXgzITArVM"
      },
      "source": [
        "input_train = sequence.pad_sequences(input_train, 800)\n",
        "input_test = sequence.pad_sequences(input_test, 800)"
      ],
      "execution_count": 4,
      "outputs": []
    },
    {
      "cell_type": "code",
      "metadata": {
        "id": "7cD70xDWIQya",
        "colab": {
          "base_uri": "https://localhost:8080/"
        },
        "outputId": "0ee96534-a388-4313-c842-044b14846196"
      },
      "source": [
        "input_train.shape, input_test.shape"
      ],
      "execution_count": 5,
      "outputs": [
        {
          "output_type": "execute_result",
          "data": {
            "text/plain": [
              "((25000, 800), (25000, 800))"
            ]
          },
          "metadata": {},
          "execution_count": 5
        }
      ]
    },
    {
      "cell_type": "markdown",
      "metadata": {
        "id": "HlYZ5ncTs8LP"
      },
      "source": [
        "### Step2. 적층 LSTM 모델 디자인"
      ]
    },
    {
      "cell_type": "code",
      "metadata": {
        "id": "5VYZ7LeX7ym3"
      },
      "source": [
        "from tensorflow.keras import models, layers"
      ],
      "execution_count": 6,
      "outputs": []
    },
    {
      "cell_type": "code",
      "metadata": {
        "id": "jvn46OSnSXj6"
      },
      "source": [
        "model = models.Sequential()"
      ],
      "execution_count": 7,
      "outputs": []
    },
    {
      "cell_type": "code",
      "metadata": {
        "id": "t2zMhzYbm_M2"
      },
      "source": [
        "# embedding layer: 32차원\n",
        "# hidden layer : LSTM 2개[32, 16]\n",
        "# dropout rate : 0.5\n",
        "# output layer\n",
        "model.add(layers.Embedding(input_dim=10000,\n",
        "                           output_dim=32,\n",
        "                           input_length=800))\n",
        "model.add(layers.LSTM(units=32, return_sequences=True))\n",
        "model.add(layers.GRU(units=16))\n",
        "model.add(layers.Dropout(0.5))\n",
        "model.add(layers.Dense(units=1, activation='sigmoid'))"
      ],
      "execution_count": 8,
      "outputs": []
    },
    {
      "cell_type": "code",
      "metadata": {
        "id": "92GAoFNvtCn_",
        "colab": {
          "base_uri": "https://localhost:8080/"
        },
        "outputId": "39b6b117-cb4c-4f23-c443-7b6a73f40e64"
      },
      "source": [
        "model.summary()"
      ],
      "execution_count": 9,
      "outputs": [
        {
          "output_type": "stream",
          "name": "stdout",
          "text": [
            "Model: \"sequential\"\n",
            "_________________________________________________________________\n",
            "Layer (type)                 Output Shape              Param #   \n",
            "=================================================================\n",
            "embedding (Embedding)        (None, 800, 32)           320000    \n",
            "_________________________________________________________________\n",
            "lstm (LSTM)                  (None, 800, 32)           8320      \n",
            "_________________________________________________________________\n",
            "gru (GRU)                    (None, 16)                2400      \n",
            "_________________________________________________________________\n",
            "dropout (Dropout)            (None, 16)                0         \n",
            "_________________________________________________________________\n",
            "dense (Dense)                (None, 1)                 17        \n",
            "=================================================================\n",
            "Total params: 330,737\n",
            "Trainable params: 330,737\n",
            "Non-trainable params: 0\n",
            "_________________________________________________________________\n"
          ]
        }
      ]
    },
    {
      "cell_type": "code",
      "metadata": {
        "id": "8gPQf_OStIkq"
      },
      "source": [
        "# loss : binary crossentropy/ optimizer : rmsprop/ metric : accuracy\n",
        "model.compile(loss='binary_crossentropy',\n",
        "              optimizer='rmsprop',\n",
        "              metrics=['accuracy'])"
      ],
      "execution_count": 10,
      "outputs": []
    },
    {
      "cell_type": "code",
      "metadata": {
        "id": "s0eZdMMXtLu4",
        "colab": {
          "base_uri": "https://localhost:8080/"
        },
        "outputId": "3c3d5372-ee79-41d7-b36b-f9637322bfff"
      },
      "source": [
        "# batch size : 128, epochs : 10, validation data set percent : 20%\n",
        "# batch size : 128, epochs : 10, validation data set percent : 20%\n",
        "history = model.fit(\n",
        "    x=input_train, y=y_train,\n",
        "    batch_size=128,\n",
        "    epochs=10,\n",
        "    validation_split=0.2\n",
        ")"
      ],
      "execution_count": 11,
      "outputs": [
        {
          "output_type": "stream",
          "name": "stdout",
          "text": [
            "Epoch 1/10\n",
            "157/157 [==============================] - 50s 267ms/step - loss: 0.5248 - accuracy: 0.7474 - val_loss: 0.3750 - val_accuracy: 0.8452\n",
            "Epoch 2/10\n",
            "157/157 [==============================] - 41s 261ms/step - loss: 0.2985 - accuracy: 0.8870 - val_loss: 0.4151 - val_accuracy: 0.8662\n",
            "Epoch 3/10\n",
            "157/157 [==============================] - 41s 262ms/step - loss: 0.2487 - accuracy: 0.9107 - val_loss: 0.2815 - val_accuracy: 0.8932\n",
            "Epoch 4/10\n",
            "157/157 [==============================] - 41s 261ms/step - loss: 0.2100 - accuracy: 0.9272 - val_loss: 0.4381 - val_accuracy: 0.8694\n",
            "Epoch 5/10\n",
            "157/157 [==============================] - 41s 261ms/step - loss: 0.1901 - accuracy: 0.9339 - val_loss: 0.3726 - val_accuracy: 0.8606\n",
            "Epoch 6/10\n",
            "157/157 [==============================] - 41s 262ms/step - loss: 0.1726 - accuracy: 0.9420 - val_loss: 0.3179 - val_accuracy: 0.8672\n",
            "Epoch 7/10\n",
            "157/157 [==============================] - 41s 261ms/step - loss: 0.1522 - accuracy: 0.9472 - val_loss: 0.3152 - val_accuracy: 0.8700\n",
            "Epoch 8/10\n",
            "157/157 [==============================] - 41s 261ms/step - loss: 0.1349 - accuracy: 0.9545 - val_loss: 0.4170 - val_accuracy: 0.8532\n",
            "Epoch 9/10\n",
            "157/157 [==============================] - 41s 261ms/step - loss: 0.1228 - accuracy: 0.9604 - val_loss: 0.3446 - val_accuracy: 0.8856\n",
            "Epoch 10/10\n",
            "157/157 [==============================] - 41s 261ms/step - loss: 0.1111 - accuracy: 0.9644 - val_loss: 0.3809 - val_accuracy: 0.8772\n"
          ]
        }
      ]
    },
    {
      "cell_type": "code",
      "metadata": {
        "id": "c36CUjVGtOOQ"
      },
      "source": [
        "# 학습과정 시각화를 위한 정보 추출\n",
        "acc = history.history['accuracy']\n",
        "val_acc = history.history['val_accuracy']\n",
        "loss = history.history['loss']\n",
        "val_loss = history.history['val_loss']\n",
        "\n",
        "epochs = range(1, len(acc) + 1)"
      ],
      "execution_count": 12,
      "outputs": []
    },
    {
      "cell_type": "code",
      "metadata": {
        "id": "plOhTdYctSKC",
        "colab": {
          "base_uri": "https://localhost:8080/",
          "height": 281
        },
        "outputId": "ba21e5f3-e6ab-4e5f-81b5-c9936b337ab2"
      },
      "source": [
        "# 정합도 정보 시각화\n",
        "plt.plot(epochs, acc, label='Training acc')\n",
        "plt.plot(epochs, val_acc, label='Validation acc')\n",
        "plt.title('Training and validation accuracy')\n",
        "plt.legend()\n",
        "plt.show()"
      ],
      "execution_count": 13,
      "outputs": [
        {
          "output_type": "display_data",
          "data": {
            "image/png": "[encoded data removed]",
            "text/plain": [
              "<Figure size 432x288 with 1 Axes>"
            ]
          },
          "metadata": {
            "needs_background": "light"
          }
        }
      ]
    },
    {
      "cell_type": "code",
      "metadata": {
        "id": "5EUQzV1GtV7H",
        "colab": {
          "base_uri": "https://localhost:8080/",
          "height": 281
        },
        "outputId": "29372f62-9ccc-4bcb-a3af-7cadeecb07e9"
      },
      "source": [
        "# loss 정보 시각화\n",
        "plt.plot(epochs, loss, label='Training loss')\n",
        "plt.plot(epochs, val_loss, label='Validation loss')\n",
        "plt.title('Training and validation loss')\n",
        "plt.legend()\n",
        "\n",
        "plt.show()"
      ],
      "execution_count": 14,
      "outputs": [
        {
          "output_type": "display_data",
          "data": {
            "image/png": "[encoded data removed]",
            "text/plain": [
              "<Figure size 432x288 with 1 Axes>"
            ]
          },
          "metadata": {
            "needs_background": "light"
          }
        }
      ]
    },
    {
      "cell_type": "code",
      "metadata": {
        "id": "1dIM7a4mtYkX",
        "colab": {
          "base_uri": "https://localhost:8080/"
        },
        "outputId": "7a82b9ea-d09f-4311-82ee-d5d6dd0d861e"
      },
      "source": [
        "# 테스트 데이터 셋을 통한 성능 측정\n",
        "loss, acc = model.evaluate(x=input_test, y = y_test)"
      ],
      "execution_count": 15,
      "outputs": [
        {
          "output_type": "stream",
          "name": "stdout",
          "text": [
            "782/782 [==============================] - 73s 93ms/step - loss: 0.4214 - accuracy: 0.8644\n"
          ]
        }
      ]
    }
  ]
}