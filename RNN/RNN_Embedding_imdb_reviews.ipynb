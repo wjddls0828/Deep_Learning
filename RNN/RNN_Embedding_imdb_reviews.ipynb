{
  "nbformat": 4,
  "nbformat_minor": 0,
  "metadata": {
    "kernelspec": {
      "name": "python3",
      "display_name": "Python 3"
    },
    "language_info": {
      "codemirror_mode": {
        "name": "ipython",
        "version": 3
      },
      "file_extension": ".py",
      "mimetype": "text/x-python",
      "name": "python",
      "nbconvert_exporter": "python",
      "pygments_lexer": "ipython3",
      "version": "3.6.6"
    },
    "colab": {
      "name": "RNN_Embedding_imdb_reviews",
      "provenance": [],
      "collapsed_sections": []
    }
  },
  "cells": [
    {
      "cell_type": "markdown",
      "metadata": {
        "id": "hiwEVOV3G3dF"
      },
      "source": [
        "## RNN 모델을 이용한 영화리뷰 분류 분석"
      ]
    },
    {
      "cell_type": "code",
      "metadata": {
        "id": "73nNmH04Ag7D"
      },
      "source": [
        "import matplotlib.pyplot as plt\n",
        "\n",
        "import tensorflow as tf\n",
        "from tensorflow.keras.datasets import imdb"
      ],
      "execution_count": 1,
      "outputs": []
    },
    {
      "cell_type": "markdown",
      "metadata": {
        "id": "jJGbMTr8Ag7R"
      },
      "source": [
        "### Step 1-1. Input tensor 와 Target tensor 준비(훈련데이터)\n",
        "* IMDB 영화 리뷰 데이터 down"
      ]
    },
    {
      "cell_type": "code",
      "metadata": {
        "id": "73MqaPo_Ag7R",
        "colab": {
          "base_uri": "https://localhost:8080/"
        },
        "outputId": "ebd6393f-de77-4e30-bbfa-c43b733153db"
      },
      "source": [
        "(train_x, train_y), (test_x, test_y) = imdb.load_data(num_words=10000)"
      ],
      "execution_count": 2,
      "outputs": [
        {
          "output_type": "stream",
          "name": "stdout",
          "text": [
            "Downloading data from https://storage.googleapis.com/tensorflow/tf-keras-datasets/imdb.npz\n",
            "17465344/17464789 [==============================] - 0s 0us/step\n",
            "17473536/17464789 [==============================] - 0s 0us/step\n"
          ]
        }
      ]
    },
    {
      "cell_type": "code",
      "metadata": {
        "id": "H8qAAYUUHzzr",
        "colab": {
          "base_uri": "https://localhost:8080/"
        },
        "outputId": "6f65572e-0a12-4b24-a92c-b1da9d0bc9df"
      },
      "source": [
        "print(train_x[0])"
      ],
      "execution_count": 3,
      "outputs": [
        {
          "output_type": "stream",
          "name": "stdout",
          "text": [
            "[1, 14, 22, 16, 43, 530, 973, 1622, 1385, 65, 458, 4468, 66, 3941, 4, 173, 36, 256, 5, 25, 100, 43, 838, 112, 50, 670, 2, 9, 35, 480, 284, 5, 150, 4, 172, 112, 167, 2, 336, 385, 39, 4, 172, 4536, 1111, 17, 546, 38, 13, 447, 4, 192, 50, 16, 6, 147, 2025, 19, 14, 22, 4, 1920, 4613, 469, 4, 22, 71, 87, 12, 16, 43, 530, 38, 76, 15, 13, 1247, 4, 22, 17, 515, 17, 12, 16, 626, 18, 2, 5, 62, 386, 12, 8, 316, 8, 106, 5, 4, 2223, 5244, 16, 480, 66, 3785, 33, 4, 130, 12, 16, 38, 619, 5, 25, 124, 51, 36, 135, 48, 25, 1415, 33, 6, 22, 12, 215, 28, 77, 52, 5, 14, 407, 16, 82, 2, 8, 4, 107, 117, 5952, 15, 256, 4, 2, 7, 3766, 5, 723, 36, 71, 43, 530, 476, 26, 400, 317, 46, 7, 4, 2, 1029, 13, 104, 88, 4, 381, 15, 297, 98, 32, 2071, 56, 26, 141, 6, 194, 7486, 18, 4, 226, 22, 21, 134, 476, 26, 480, 5, 144, 30, 5535, 18, 51, 36, 28, 224, 92, 25, 104, 4, 226, 65, 16, 38, 1334, 88, 12, 16, 283, 5, 16, 4472, 113, 103, 32, 15, 16, 5345, 19, 178, 32]\n"
          ]
        }
      ]
    },
    {
      "cell_type": "code",
      "metadata": {
        "id": "y0jubVnBID0R",
        "colab": {
          "base_uri": "https://localhost:8080/"
        },
        "outputId": "133e6199-ab42-4276-9104-5f4369b04452"
      },
      "source": [
        "word_idx = imdb.get_word_index()"
      ],
      "execution_count": 4,
      "outputs": [
        {
          "output_type": "stream",
          "name": "stdout",
          "text": [
            "Downloading data from https://storage.googleapis.com/tensorflow/tf-keras-datasets/imdb_word_index.json\n",
            "1646592/1641221 [==============================] - 0s 0us/step\n",
            "1654784/1641221 [==============================] - 0s 0us/step\n"
          ]
        }
      ]
    },
    {
      "cell_type": "code",
      "metadata": {
        "id": "E7abKkNIptAX"
      },
      "source": [
        "idx_word = {idx+3 : word  for word, idx in word_idx.items()}"
      ],
      "execution_count": 5,
      "outputs": []
    },
    {
      "cell_type": "code",
      "metadata": {
        "id": "QBsR_L6Dp2OU"
      },
      "source": [
        "idx_word[0] = '<pad>'\n",
        "idx_word[1] = '<sos>'\n",
        "idx_word[2] =  '<unk>'"
      ],
      "execution_count": 6,
      "outputs": []
    },
    {
      "cell_type": "code",
      "metadata": {
        "id": "QrTVRfRjrmOy"
      },
      "source": [
        "tokens = [idx_word[idx] for idx in train_x[0]]"
      ],
      "execution_count": 7,
      "outputs": []
    },
    {
      "cell_type": "code",
      "metadata": {
        "id": "Q9bDiNg8qFSv",
        "colab": {
          "base_uri": "https://localhost:8080/"
        },
        "outputId": "ba273637-9ea1-45fb-c014-480fa1734bd9"
      },
      "source": [
        "print(tokens)"
      ],
      "execution_count": 8,
      "outputs": [
        {
          "output_type": "stream",
          "name": "stdout",
          "text": [
            "['<sos>', 'this', 'film', 'was', 'just', 'brilliant', 'casting', 'location', 'scenery', 'story', 'direction', \"everyone's\", 'really', 'suited', 'the', 'part', 'they', 'played', 'and', 'you', 'could', 'just', 'imagine', 'being', 'there', 'robert', '<unk>', 'is', 'an', 'amazing', 'actor', 'and', 'now', 'the', 'same', 'being', 'director', '<unk>', 'father', 'came', 'from', 'the', 'same', 'scottish', 'island', 'as', 'myself', 'so', 'i', 'loved', 'the', 'fact', 'there', 'was', 'a', 'real', 'connection', 'with', 'this', 'film', 'the', 'witty', 'remarks', 'throughout', 'the', 'film', 'were', 'great', 'it', 'was', 'just', 'brilliant', 'so', 'much', 'that', 'i', 'bought', 'the', 'film', 'as', 'soon', 'as', 'it', 'was', 'released', 'for', '<unk>', 'and', 'would', 'recommend', 'it', 'to', 'everyone', 'to', 'watch', 'and', 'the', 'fly', 'fishing', 'was', 'amazing', 'really', 'cried', 'at', 'the', 'end', 'it', 'was', 'so', 'sad', 'and', 'you', 'know', 'what', 'they', 'say', 'if', 'you', 'cry', 'at', 'a', 'film', 'it', 'must', 'have', 'been', 'good', 'and', 'this', 'definitely', 'was', 'also', '<unk>', 'to', 'the', 'two', 'little', \"boy's\", 'that', 'played', 'the', '<unk>', 'of', 'norman', 'and', 'paul', 'they', 'were', 'just', 'brilliant', 'children', 'are', 'often', 'left', 'out', 'of', 'the', '<unk>', 'list', 'i', 'think', 'because', 'the', 'stars', 'that', 'play', 'them', 'all', 'grown', 'up', 'are', 'such', 'a', 'big', 'profile', 'for', 'the', 'whole', 'film', 'but', 'these', 'children', 'are', 'amazing', 'and', 'should', 'be', 'praised', 'for', 'what', 'they', 'have', 'done', \"don't\", 'you', 'think', 'the', 'whole', 'story', 'was', 'so', 'lovely', 'because', 'it', 'was', 'true', 'and', 'was', \"someone's\", 'life', 'after', 'all', 'that', 'was', 'shared', 'with', 'us', 'all']\n"
          ]
        }
      ]
    },
    {
      "cell_type": "markdown",
      "metadata": {
        "id": "jFdUAnJlLTvK"
      },
      "source": [
        "### Step 1-2. 입력 데이터의 전처리 \n",
        "* RNN 모델에 데이터를 입력하기 위해 시퀀스 데이터의 길이를 통일"
      ]
    },
    {
      "cell_type": "code",
      "metadata": {
        "id": "hHu_Kj0LpkfT"
      },
      "source": [
        "from tensorflow.keras.preprocessing.sequence import pad_sequences"
      ],
      "execution_count": 9,
      "outputs": []
    },
    {
      "cell_type": "code",
      "metadata": {
        "id": "UvoXgzITArVM"
      },
      "source": [
        "train_x = pad_sequences(train_x, maxlen=800)\n",
        "test_x = pad_sequences(test_x, maxlen=800)"
      ],
      "execution_count": 10,
      "outputs": []
    },
    {
      "cell_type": "code",
      "metadata": {
        "id": "7cD70xDWIQya",
        "colab": {
          "base_uri": "https://localhost:8080/"
        },
        "outputId": "99ca549c-69d3-42d0-e20a-69072ca54c4a"
      },
      "source": [
        "train_x.shape, test_x.shape"
      ],
      "execution_count": 11,
      "outputs": [
        {
          "output_type": "execute_result",
          "data": {
            "text/plain": [
              "((25000, 800), (25000, 800))"
            ]
          },
          "metadata": {},
          "execution_count": 11
        }
      ]
    },
    {
      "cell_type": "code",
      "metadata": {
        "id": "17Tsm7tfCn_q",
        "colab": {
          "base_uri": "https://localhost:8080/"
        },
        "outputId": "bf33157d-b9a6-4b60-9a1b-3bedbba45fb0"
      },
      "source": [
        "train_x[0]"
      ],
      "execution_count": 12,
      "outputs": [
        {
          "output_type": "execute_result",
          "data": {
            "text/plain": [
              "array([   0,    0,    0,    0,    0,    0,    0,    0,    0,    0,    0,\n",
              "          0,    0,    0,    0,    0,    0,    0,    0,    0,    0,    0,\n",
              "          0,    0,    0,    0,    0,    0,    0,    0,    0,    0,    0,\n",
              "          0,    0,    0,    0,    0,    0,    0,    0,    0,    0,    0,\n",
              "          0,    0,    0,    0,    0,    0,    0,    0,    0,    0,    0,\n",
              "          0,    0,    0,    0,    0,    0,    0,    0,    0,    0,    0,\n",
              "          0,    0,    0,    0,    0,    0,    0,    0,    0,    0,    0,\n",
              "          0,    0,    0,    0,    0,    0,    0,    0,    0,    0,    0,\n",
              "          0,    0,    0,    0,    0,    0,    0,    0,    0,    0,    0,\n",
              "          0,    0,    0,    0,    0,    0,    0,    0,    0,    0,    0,\n",
              "          0,    0,    0,    0,    0,    0,    0,    0,    0,    0,    0,\n",
              "          0,    0,    0,    0,    0,    0,    0,    0,    0,    0,    0,\n",
              "          0,    0,    0,    0,    0,    0,    0,    0,    0,    0,    0,\n",
              "          0,    0,    0,    0,    0,    0,    0,    0,    0,    0,    0,\n",
              "          0,    0,    0,    0,    0,    0,    0,    0,    0,    0,    0,\n",
              "          0,    0,    0,    0,    0,    0,    0,    0,    0,    0,    0,\n",
              "          0,    0,    0,    0,    0,    0,    0,    0,    0,    0,    0,\n",
              "          0,    0,    0,    0,    0,    0,    0,    0,    0,    0,    0,\n",
              "          0,    0,    0,    0,    0,    0,    0,    0,    0,    0,    0,\n",
              "          0,    0,    0,    0,    0,    0,    0,    0,    0,    0,    0,\n",
              "          0,    0,    0,    0,    0,    0,    0,    0,    0,    0,    0,\n",
              "          0,    0,    0,    0,    0,    0,    0,    0,    0,    0,    0,\n",
              "          0,    0,    0,    0,    0,    0,    0,    0,    0,    0,    0,\n",
              "          0,    0,    0,    0,    0,    0,    0,    0,    0,    0,    0,\n",
              "          0,    0,    0,    0,    0,    0,    0,    0,    0,    0,    0,\n",
              "          0,    0,    0,    0,    0,    0,    0,    0,    0,    0,    0,\n",
              "          0,    0,    0,    0,    0,    0,    0,    0,    0,    0,    0,\n",
              "          0,    0,    0,    0,    0,    0,    0,    0,    0,    0,    0,\n",
              "          0,    0,    0,    0,    0,    0,    0,    0,    0,    0,    0,\n",
              "          0,    0,    0,    0,    0,    0,    0,    0,    0,    0,    0,\n",
              "          0,    0,    0,    0,    0,    0,    0,    0,    0,    0,    0,\n",
              "          0,    0,    0,    0,    0,    0,    0,    0,    0,    0,    0,\n",
              "          0,    0,    0,    0,    0,    0,    0,    0,    0,    0,    0,\n",
              "          0,    0,    0,    0,    0,    0,    0,    0,    0,    0,    0,\n",
              "          0,    0,    0,    0,    0,    0,    0,    0,    0,    0,    0,\n",
              "          0,    0,    0,    0,    0,    0,    0,    0,    0,    0,    0,\n",
              "          0,    0,    0,    0,    0,    0,    0,    0,    0,    0,    0,\n",
              "          0,    0,    0,    0,    0,    0,    0,    0,    0,    0,    0,\n",
              "          0,    0,    0,    0,    0,    0,    0,    0,    0,    0,    0,\n",
              "          0,    0,    0,    0,    0,    0,    0,    0,    0,    0,    0,\n",
              "          0,    0,    0,    0,    0,    0,    0,    0,    0,    0,    0,\n",
              "          0,    0,    0,    0,    0,    0,    0,    0,    0,    0,    0,\n",
              "          0,    0,    0,    0,    0,    0,    0,    0,    0,    0,    0,\n",
              "          0,    0,    0,    0,    0,    0,    0,    0,    0,    0,    0,\n",
              "          0,    0,    0,    0,    0,    0,    0,    0,    0,    0,    0,\n",
              "          0,    0,    0,    0,    0,    0,    0,    0,    0,    0,    0,\n",
              "          0,    0,    0,    0,    0,    0,    0,    0,    0,    0,    0,\n",
              "          0,    0,    0,    0,    0,    0,    0,    0,    0,    0,    0,\n",
              "          0,    0,    0,    0,    0,    0,    0,    0,    0,    0,    0,\n",
              "          0,    0,    0,    0,    0,    0,    0,    0,    0,    0,    0,\n",
              "          0,    0,    0,    0,    0,    0,    0,    0,    0,    0,    0,\n",
              "          0,    0,    0,    0,    0,    0,    0,    0,    0,    0,    0,\n",
              "          0,    0,    0,    0,    0,    0,    0,    0,    0,    0,    1,\n",
              "         14,   22,   16,   43,  530,  973, 1622, 1385,   65,  458, 4468,\n",
              "         66, 3941,    4,  173,   36,  256,    5,   25,  100,   43,  838,\n",
              "        112,   50,  670,    2,    9,   35,  480,  284,    5,  150,    4,\n",
              "        172,  112,  167,    2,  336,  385,   39,    4,  172, 4536, 1111,\n",
              "         17,  546,   38,   13,  447,    4,  192,   50,   16,    6,  147,\n",
              "       2025,   19,   14,   22,    4, 1920, 4613,  469,    4,   22,   71,\n",
              "         87,   12,   16,   43,  530,   38,   76,   15,   13, 1247,    4,\n",
              "         22,   17,  515,   17,   12,   16,  626,   18,    2,    5,   62,\n",
              "        386,   12,    8,  316,    8,  106,    5,    4, 2223, 5244,   16,\n",
              "        480,   66, 3785,   33,    4,  130,   12,   16,   38,  619,    5,\n",
              "         25,  124,   51,   36,  135,   48,   25, 1415,   33,    6,   22,\n",
              "         12,  215,   28,   77,   52,    5,   14,  407,   16,   82,    2,\n",
              "          8,    4,  107,  117, 5952,   15,  256,    4,    2,    7, 3766,\n",
              "          5,  723,   36,   71,   43,  530,  476,   26,  400,  317,   46,\n",
              "          7,    4,    2, 1029,   13,  104,   88,    4,  381,   15,  297,\n",
              "         98,   32, 2071,   56,   26,  141,    6,  194, 7486,   18,    4,\n",
              "        226,   22,   21,  134,  476,   26,  480,    5,  144,   30, 5535,\n",
              "         18,   51,   36,   28,  224,   92,   25,  104,    4,  226,   65,\n",
              "         16,   38, 1334,   88,   12,   16,  283,    5,   16, 4472,  113,\n",
              "        103,   32,   15,   16, 5345,   19,  178,   32], dtype=int32)"
            ]
          },
          "metadata": {},
          "execution_count": 12
        }
      ]
    },
    {
      "cell_type": "markdown",
      "metadata": {
        "id": "9bH4xnf6L7Gy"
      },
      "source": [
        "### Step2. RNN 모델 디자인"
      ]
    },
    {
      "cell_type": "code",
      "metadata": {
        "id": "1JVNicy5r4d_"
      },
      "source": [
        "from tensorflow.keras import models, layers"
      ],
      "execution_count": 13,
      "outputs": []
    },
    {
      "cell_type": "code",
      "metadata": {
        "id": "kFkKlbDI45et"
      },
      "source": [
        "model = models.Sequential()"
      ],
      "execution_count": 14,
      "outputs": []
    },
    {
      "cell_type": "code",
      "metadata": {
        "id": "hByPr3YBAg7T"
      },
      "source": [
        "# embedding layer: 32차원, \n",
        "# RNN hidden layer : RNN1개[32], activation : tanh\n",
        "# output layer : 직접 설계\n",
        "model.add(layers.Embedding(input_dim=10000,\n",
        "                           output_dim=32,\n",
        "                           input_length=800))\n",
        "model.add(layers.SimpleRNN(units=32))\n",
        "model.add(layers.Dense(units=1, activation='sigmoid'))"
      ],
      "execution_count": 15,
      "outputs": []
    },
    {
      "cell_type": "code",
      "metadata": {
        "colab": {
          "base_uri": "https://localhost:8080/"
        },
        "id": "zpO90hsJ5UZ4",
        "outputId": "30e044e2-86e4-486d-81bb-6506ea099e1a"
      },
      "source": [
        "model.summary()"
      ],
      "execution_count": 16,
      "outputs": [
        {
          "output_type": "stream",
          "name": "stdout",
          "text": [
            "Model: \"sequential\"\n",
            "_________________________________________________________________\n",
            "Layer (type)                 Output Shape              Param #   \n",
            "=================================================================\n",
            "embedding (Embedding)        (None, 800, 32)           320000    \n",
            "_________________________________________________________________\n",
            "simple_rnn (SimpleRNN)       (None, 32)                2080      \n",
            "_________________________________________________________________\n",
            "dense (Dense)                (None, 1)                 33        \n",
            "=================================================================\n",
            "Total params: 322,113\n",
            "Trainable params: 322,113\n",
            "Non-trainable params: 0\n",
            "_________________________________________________________________\n"
          ]
        }
      ]
    },
    {
      "cell_type": "markdown",
      "metadata": {
        "id": "9ur4E4sGMGJj"
      },
      "source": [
        "### Step 3. 모델의 학습 정보 설정"
      ]
    },
    {
      "cell_type": "code",
      "metadata": {
        "id": "BrDdFZg_D9RQ"
      },
      "source": [
        "# loss : binary crossentropy/ optimizer : rmsprop/ metric : accuracy\n",
        "model.compile(loss='binary_crossentropy',\n",
        "              optimizer='rmsprop',\n",
        "              metrics='accuracy')"
      ],
      "execution_count": 17,
      "outputs": []
    },
    {
      "cell_type": "markdown",
      "metadata": {
        "id": "0h2kj5IWMLDR"
      },
      "source": [
        "### Step 4. 모델에 input, target 데이터 연결 후 학습"
      ]
    },
    {
      "cell_type": "code",
      "metadata": {
        "id": "WUW_z3AYD-xN",
        "colab": {
          "base_uri": "https://localhost:8080/"
        },
        "outputId": "104a2ee8-9812-4c48-f65f-b3e68bc32e6b"
      },
      "source": [
        "# batch size : 128, epochs : 10, validation data set percent : 20%\n",
        "history = model.fit(\n",
        "    x=train_x, y=train_y,\n",
        "    batch_size=128,\n",
        "    epochs=10,\n",
        "    validation_split=0.2\n",
        ")"
      ],
      "execution_count": 18,
      "outputs": [
        {
          "output_type": "stream",
          "name": "stdout",
          "text": [
            "Epoch 1/10\n",
            "157/157 [==============================] - 43s 263ms/step - loss: 0.6180 - accuracy: 0.6414 - val_loss: 0.4516 - val_accuracy: 0.8058\n",
            "Epoch 2/10\n",
            "157/157 [==============================] - 41s 262ms/step - loss: 0.3899 - accuracy: 0.8360 - val_loss: 0.4136 - val_accuracy: 0.8148\n",
            "Epoch 3/10\n",
            "157/157 [==============================] - 41s 263ms/step - loss: 0.2748 - accuracy: 0.8929 - val_loss: 0.3578 - val_accuracy: 0.8554\n",
            "Epoch 4/10\n",
            "157/157 [==============================] - 41s 263ms/step - loss: 0.2159 - accuracy: 0.9193 - val_loss: 0.3430 - val_accuracy: 0.8656\n",
            "Epoch 5/10\n",
            "157/157 [==============================] - 41s 263ms/step - loss: 0.1579 - accuracy: 0.9428 - val_loss: 0.5751 - val_accuracy: 0.8302\n",
            "Epoch 6/10\n",
            "157/157 [==============================] - 41s 264ms/step - loss: 0.1132 - accuracy: 0.9597 - val_loss: 0.5085 - val_accuracy: 0.8448\n",
            "Epoch 7/10\n",
            "157/157 [==============================] - 41s 264ms/step - loss: 0.0758 - accuracy: 0.9748 - val_loss: 0.5958 - val_accuracy: 0.8284\n",
            "Epoch 8/10\n",
            "157/157 [==============================] - 41s 263ms/step - loss: 0.0490 - accuracy: 0.9844 - val_loss: 0.4751 - val_accuracy: 0.8608\n",
            "Epoch 9/10\n",
            "157/157 [==============================] - 41s 263ms/step - loss: 0.0374 - accuracy: 0.9894 - val_loss: 0.7015 - val_accuracy: 0.7566\n",
            "Epoch 10/10\n",
            "157/157 [==============================] - 41s 262ms/step - loss: 0.0231 - accuracy: 0.9929 - val_loss: 0.5711 - val_accuracy: 0.8436\n"
          ]
        }
      ]
    },
    {
      "cell_type": "markdown",
      "metadata": {
        "id": "Ak2AIbp9MUD1"
      },
      "source": [
        "### 학습과정의 시각화 및 성능 테스트"
      ]
    },
    {
      "cell_type": "code",
      "metadata": {
        "id": "R6zph8mBAg7X"
      },
      "source": [
        "# 학습과정 시각화를 위한 정보 추출\n",
        "acc = history.history['accuracy']\n",
        "val_acc = history.history['val_accuracy']\n",
        "loss = history.history['loss']\n",
        "val_loss = history.history['val_loss']"
      ],
      "execution_count": 19,
      "outputs": []
    },
    {
      "cell_type": "code",
      "metadata": {
        "id": "hEu9zJoMMh_h"
      },
      "source": [
        "# 차트의 x 축을 위한 epoch 정보 생성\n",
        "epochs = range(1, len(acc) + 1)"
      ],
      "execution_count": 20,
      "outputs": []
    },
    {
      "cell_type": "code",
      "metadata": {
        "id": "_gCd3BdWJInD",
        "colab": {
          "base_uri": "https://localhost:8080/",
          "height": 281
        },
        "outputId": "be52982a-c31c-402d-da46-c112f2c8f1af"
      },
      "source": [
        "# 정합도 정보 시각화\n",
        "plt.plot(epochs, acc, label='Training acc')\n",
        "plt.plot(epochs, val_acc, label='Validation acc')\n",
        "plt.title('Training and validation accuracy')\n",
        "plt.legend()\n",
        "plt.show()"
      ],
      "execution_count": 21,
      "outputs": [
        {
          "output_type": "display_data",
          "data": {
            "image/png": "[encoded data removed]",
            "text/plain": [
              "<Figure size 432x288 with 1 Axes>"
            ]
          },
          "metadata": {
            "needs_background": "light"
          }
        }
      ]
    },
    {
      "cell_type": "code",
      "metadata": {
        "id": "hFHfedUuJNW1",
        "colab": {
          "base_uri": "https://localhost:8080/",
          "height": 281
        },
        "outputId": "78762004-5ac8-4240-b513-dc36512a1046"
      },
      "source": [
        "# loss 정보 시각화\n",
        "plt.plot(epochs, loss, label='Training loss')\n",
        "plt.plot(epochs, val_loss, label='Validation loss')\n",
        "plt.title('Training and validation loss')\n",
        "plt.legend()\n",
        "\n",
        "plt.show()"
      ],
      "execution_count": 22,
      "outputs": [
        {
          "output_type": "display_data",
          "data": {
            "image/png": "[encoded data removed]",
            "text/plain": [
              "<Figure size 432x288 with 1 Axes>"
            ]
          },
          "metadata": {
            "needs_background": "light"
          }
        }
      ]
    },
    {
      "cell_type": "code",
      "metadata": {
        "id": "ZPlQmoPqM25c",
        "colab": {
          "base_uri": "https://localhost:8080/"
        },
        "outputId": "952c42f7-a6a8-49f1-9628-48f8e14554ae"
      },
      "source": [
        "# 테스트 데이터 셋을 통한 성능 측정\n",
        "test_loss, test_acc = model.evaluate(x=test_x, y=test_y)"
      ],
      "execution_count": 23,
      "outputs": [
        {
          "output_type": "stream",
          "name": "stdout",
          "text": [
            "782/782 [==============================] - 31s 39ms/step - loss: 0.6297 - accuracy: 0.8347\n"
          ]
        }
      ]
    },
    {
      "cell_type": "code",
      "metadata": {
        "id": "-KBxchdHvgfP"
      },
      "source": [
        "import numpy as np"
      ],
      "execution_count": 24,
      "outputs": []
    },
    {
      "cell_type": "code",
      "metadata": {
        "id": "sJSj8btYu1Wr"
      },
      "source": [
        "test_sequences = np.delete(test_x[1], np.argwhere(test_x[1] == 0))"
      ],
      "execution_count": 25,
      "outputs": []
    },
    {
      "cell_type": "code",
      "metadata": {
        "id": "FusDvKLmvs0Q",
        "colab": {
          "base_uri": "https://localhost:8080/"
        },
        "outputId": "0c0c3126-f354-4de0-964e-53f26251b0e4"
      },
      "source": [
        "print(test_sequences)"
      ],
      "execution_count": 26,
      "outputs": [
        {
          "output_type": "stream",
          "name": "stdout",
          "text": [
            "[   1   14   22 3443    6  176    7 5063   88   12 2679   23 1310    5\n",
            "  109  943    4  114    9   55  606    5  111    7    4  139  193  273\n",
            "   23    4  172  270   11 7216    2    4 8463 2801  109 1603   21    4\n",
            "   22 3861    8    6 1193 1330   10   10    4  105  987   35  841    2\n",
            "   19  861 1074    5 1987    2   45   55  221   15  670 5304  526   14\n",
            " 1069    4  405    5 2438    7   27   85  108  131    4 5045 5304 3884\n",
            "  405    9 3523  133    5   50   13  104   51   66  166   14   22  157\n",
            "    9    4  530  239   34 8463 2801   45  407   31    7   41 3778  105\n",
            "   21   59  299   12   38  950    5 4521   15   45  629  488 2733  127\n",
            "    6   52  292   17    4 6936  185  132 1988 5304 1799  488 2693   47\n",
            "    6  392  173    4    2 4378  270 2352    4 1500    7    4   65   55\n",
            "   73   11  346   14   20    9    6  976 2078    7 5293  861    2    5\n",
            " 4182   30 3127    2   56    4  841    5  990  692    8    4 1669  398\n",
            "  229   10   10   13 2822  670 5304   14    9   31    7   27  111  108\n",
            "   15 2033   19 7836 1429  875  551   14   22    9 1193   21   45 4829\n",
            "    5   45  252    8    2    6  565  921 3639   39    4  529   48   25\n",
            "  181    8   67   35 1732   22   49  238   60  135 1162   14    9  290\n",
            "    4   58   10   10  472   45   55  878    8  169   11  374 5687   25\n",
            "  203   28    8  818   12  125    4 3077]\n"
          ]
        }
      ]
    },
    {
      "cell_type": "code",
      "metadata": {
        "id": "KF2t7YeJv1If"
      },
      "source": [
        "sentense = [idx_word.get(idx, \"Nono\")  for idx in test_sequences]"
      ],
      "execution_count": 27,
      "outputs": []
    },
    {
      "cell_type": "code",
      "metadata": {
        "id": "B6zDPSoBr79P",
        "colab": {
          "base_uri": "https://localhost:8080/"
        },
        "outputId": "391bef39-0cae-4d21-dca7-694e78509a1b"
      },
      "source": [
        "print(sentense)"
      ],
      "execution_count": 28,
      "outputs": [
        {
          "output_type": "stream",
          "name": "stdout",
          "text": [
            "['<sos>', 'this', 'film', 'requires', 'a', 'lot', 'of', 'patience', 'because', 'it', 'focuses', 'on', 'mood', 'and', 'character', 'development', 'the', 'plot', 'is', 'very', 'simple', 'and', 'many', 'of', 'the', 'scenes', 'take', 'place', 'on', 'the', 'same', 'set', 'in', 'frances', '<unk>', 'the', 'sandy', 'dennis', 'character', 'apartment', 'but', 'the', 'film', 'builds', 'to', 'a', 'disturbing', 'climax', 'br', 'br', 'the', 'characters', 'create', 'an', 'atmosphere', '<unk>', 'with', 'sexual', 'tension', 'and', 'psychological', '<unk>', \"it's\", 'very', 'interesting', 'that', 'robert', 'altman', 'directed', 'this', 'considering', 'the', 'style', 'and', 'structure', 'of', 'his', 'other', 'films', 'still', 'the', 'trademark', 'altman', 'audio', 'style', 'is', 'evident', 'here', 'and', 'there', 'i', 'think', 'what', 'really', 'makes', 'this', 'film', 'work', 'is', 'the', 'brilliant', 'performance', 'by', 'sandy', 'dennis', \"it's\", 'definitely', 'one', 'of', 'her', 'darker', 'characters', 'but', 'she', 'plays', 'it', 'so', 'perfectly', 'and', 'convincingly', 'that', \"it's\", 'scary', 'michael', 'burns', 'does', 'a', 'good', 'job', 'as', 'the', 'mute', 'young', 'man', 'regular', 'altman', 'player', 'michael', 'murphy', 'has', 'a', 'small', 'part', 'the', '<unk>', 'moody', 'set', 'fits', 'the', 'content', 'of', 'the', 'story', 'very', 'well', 'in', 'short', 'this', 'movie', 'is', 'a', 'powerful', 'study', 'of', 'loneliness', 'sexual', '<unk>', 'and', 'desperation', 'be', 'patient', '<unk>', 'up', 'the', 'atmosphere', 'and', 'pay', 'attention', 'to', 'the', 'wonderfully', 'written', 'script', 'br', 'br', 'i', 'praise', 'robert', 'altman', 'this', 'is', 'one', 'of', 'his', 'many', 'films', 'that', 'deals', 'with', 'unconventional', 'fascinating', 'subject', 'matter', 'this', 'film', 'is', 'disturbing', 'but', \"it's\", 'sincere', 'and', \"it's\", 'sure', 'to', '<unk>', 'a', 'strong', 'emotional', 'response', 'from', 'the', 'viewer', 'if', 'you', 'want', 'to', 'see', 'an', 'unusual', 'film', 'some', 'might', 'even', 'say', 'bizarre', 'this', 'is', 'worth', 'the', 'time', 'br', 'br', 'unfortunately', \"it's\", 'very', 'difficult', 'to', 'find', 'in', 'video', 'stores', 'you', 'may', 'have', 'to', 'buy', 'it', 'off', 'the', 'internet']\n"
          ]
        }
      ]
    },
    {
      "cell_type": "code",
      "metadata": {
        "colab": {
          "base_uri": "https://localhost:8080/"
        },
        "id": "bgcSMscaA9Ad",
        "outputId": "eaacda5c-02f7-4635-8a82-2efa3a09e3df"
      },
      "source": [
        "model.predict(test_x[1].reshape(1, -1))"
      ],
      "execution_count": 29,
      "outputs": [
        {
          "output_type": "execute_result",
          "data": {
            "text/plain": [
              "array([[0.9974169]], dtype=float32)"
            ]
          },
          "metadata": {},
          "execution_count": 29
        }
      ]
    },
    {
      "cell_type": "code",
      "metadata": {
        "id": "BnZTJ3AgBdbo",
        "colab": {
          "base_uri": "https://localhost:8080/"
        },
        "outputId": "8163585f-9078-48bb-f836-794d331e5a98"
      },
      "source": [
        "test_y[1]"
      ],
      "execution_count": 30,
      "outputs": [
        {
          "output_type": "execute_result",
          "data": {
            "text/plain": [
              "1"
            ]
          },
          "metadata": {},
          "execution_count": 30
        }
      ]
    },
    {
      "cell_type": "code",
      "metadata": {
        "id": "P695iHHzBhix"
      },
      "source": [
        ""
      ],
      "execution_count": 30,
      "outputs": []
    }
  ]
}