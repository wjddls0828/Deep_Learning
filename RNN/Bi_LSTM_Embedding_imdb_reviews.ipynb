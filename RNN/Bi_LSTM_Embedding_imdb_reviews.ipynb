{
  "nbformat": 4,
  "nbformat_minor": 0,
  "metadata": {
    "kernelspec": {
      "name": "python3",
      "display_name": "Python 3"
    },
    "language_info": {
      "codemirror_mode": {
        "name": "ipython",
        "version": 3
      },
      "file_extension": ".py",
      "mimetype": "text/x-python",
      "name": "python",
      "nbconvert_exporter": "python",
      "pygments_lexer": "ipython3",
      "version": "3.6.6"
    },
    "colab": {
      "name": "Bi-LSTM_Embedding_imdb_reviews",
      "provenance": [],
      "collapsed_sections": []
    },
    "accelerator": "GPU"
  },
  "cells": [
    {
      "cell_type": "markdown",
      "metadata": {
        "id": "hiwEVOV3G3dF"
      },
      "source": [
        "## 적층 LSTM 모델을 이용한 영화리뷰 분류 분석"
      ]
    },
    {
      "cell_type": "code",
      "metadata": {
        "id": "73nNmH04Ag7D"
      },
      "source": [
        "import matplotlib.pyplot as plt\n",
        "\n",
        "import tensorflow as tf\n",
        "from tensorflow.keras.datasets import imdb"
      ],
      "execution_count": 8,
      "outputs": []
    },
    {
      "cell_type": "markdown",
      "metadata": {
        "id": "jJGbMTr8Ag7R"
      },
      "source": [
        "### Step 1-1. Input tensor 와 Target tensor 준비(훈련데이터)\n",
        "* IMDB 영화 리뷰 데이터 down"
      ]
    },
    {
      "cell_type": "code",
      "metadata": {
        "id": "73MqaPo_Ag7R"
      },
      "source": [
        "(input_train, y_train), (input_test, y_test) = imdb.load_data(num_words=10000)"
      ],
      "execution_count": 9,
      "outputs": []
    },
    {
      "cell_type": "markdown",
      "metadata": {
        "id": "jFdUAnJlLTvK"
      },
      "source": [
        "### Step 1-2. 입력 데이터의 전처리 \n",
        "* LSTM 모델에 데이터를 입력하기 위해 시퀀스 데이터의 길이를 통일"
      ]
    },
    {
      "cell_type": "code",
      "metadata": {
        "id": "37iQ2jnz7oD4"
      },
      "source": [
        "from tensorflow.keras.preprocessing import sequence"
      ],
      "execution_count": 10,
      "outputs": []
    },
    {
      "cell_type": "code",
      "metadata": {
        "id": "UvoXgzITArVM"
      },
      "source": [
        "input_train = sequence.pad_sequences(input_train, 800)\n",
        "input_test = sequence.pad_sequences(input_test, 800)"
      ],
      "execution_count": 11,
      "outputs": []
    },
    {
      "cell_type": "code",
      "metadata": {
        "id": "7cD70xDWIQya",
        "colab": {
          "base_uri": "https://localhost:8080/"
        },
        "outputId": "615a1117-3b2b-490f-eded-84fcab162315"
      },
      "source": [
        "input_train.shape, input_test.shape"
      ],
      "execution_count": 12,
      "outputs": [
        {
          "output_type": "execute_result",
          "data": {
            "text/plain": [
              "((25000, 800), (25000, 800))"
            ]
          },
          "metadata": {},
          "execution_count": 12
        }
      ]
    },
    {
      "cell_type": "markdown",
      "metadata": {
        "id": "HlYZ5ncTs8LP"
      },
      "source": [
        "### Step2. Bi-LSTM 모델 디자인"
      ]
    },
    {
      "cell_type": "code",
      "metadata": {
        "id": "5VYZ7LeX7ym3"
      },
      "source": [
        "from tensorflow.keras import layers, models"
      ],
      "execution_count": 13,
      "outputs": []
    },
    {
      "cell_type": "code",
      "metadata": {
        "id": "t2zMhzYbm_M2"
      },
      "source": [
        "# embedding layer: 32차원, hidden layer : Bi-LSTM 1개[32]\n",
        "model = models.Sequential()\n",
        "model.add(layers.Embedding(input_dim=10000, output_dim=32, input_length=800))\n",
        "model.add(layers.Bidirectional(layers.LSTM(units=32)))\n",
        "model.add(layers.Dense(units=1, activation='sigmoid'))"
      ],
      "execution_count": 14,
      "outputs": []
    },
    {
      "cell_type": "code",
      "metadata": {
        "id": "92GAoFNvtCn_",
        "colab": {
          "base_uri": "https://localhost:8080/"
        },
        "outputId": "5b989a09-bd10-4bc3-a99b-ddc4094a8c6d"
      },
      "source": [
        "model.summary()"
      ],
      "execution_count": 15,
      "outputs": [
        {
          "output_type": "stream",
          "name": "stdout",
          "text": [
            "Model: \"sequential\"\n",
            "_________________________________________________________________\n",
            "Layer (type)                 Output Shape              Param #   \n",
            "=================================================================\n",
            "embedding (Embedding)        (None, 800, 32)           320000    \n",
            "_________________________________________________________________\n",
            "bidirectional (Bidirectional (None, 64)                16640     \n",
            "_________________________________________________________________\n",
            "dense (Dense)                (None, 1)                 65        \n",
            "=================================================================\n",
            "Total params: 336,705\n",
            "Trainable params: 336,705\n",
            "Non-trainable params: 0\n",
            "_________________________________________________________________\n"
          ]
        }
      ]
    },
    {
      "cell_type": "code",
      "metadata": {
        "id": "8gPQf_OStIkq"
      },
      "source": [
        "# loss : binary crossentropy/ optimizer : rmsprop/ metric : accuracy\n",
        "model.compile(loss='binary_crossentropy',\n",
        "              optimizer='rmsprop',\n",
        "              metrics=['accuracy'])"
      ],
      "execution_count": 16,
      "outputs": []
    },
    {
      "cell_type": "code",
      "metadata": {
        "id": "s0eZdMMXtLu4",
        "colab": {
          "base_uri": "https://localhost:8080/"
        },
        "outputId": "8eaf7eb8-c47c-4af9-ff14-011140be2b80"
      },
      "source": [
        "# batch size : 128, epochs : 10, validation data set percent : 20%\n",
        "history = model.fit(\n",
        "    x=input_train, y=y_train,\n",
        "    batch_size=128,\n",
        "    epochs=10,\n",
        "    validation_split=0.2\n",
        ")"
      ],
      "execution_count": 17,
      "outputs": [
        {
          "output_type": "stream",
          "name": "stdout",
          "text": [
            "Epoch 1/10\n",
            "157/157 [==============================] - 46s 236ms/step - loss: 0.5104 - accuracy: 0.7591 - val_loss: 0.4813 - val_accuracy: 0.7942\n",
            "Epoch 2/10\n",
            "157/157 [==============================] - 34s 219ms/step - loss: 0.3015 - accuracy: 0.8813 - val_loss: 0.2969 - val_accuracy: 0.8862\n",
            "Epoch 3/10\n",
            "157/157 [==============================] - 34s 219ms/step - loss: 0.2369 - accuracy: 0.9107 - val_loss: 0.3583 - val_accuracy: 0.8780\n",
            "Epoch 4/10\n",
            "157/157 [==============================] - 34s 217ms/step - loss: 0.2033 - accuracy: 0.9242 - val_loss: 0.3173 - val_accuracy: 0.8628\n",
            "Epoch 5/10\n",
            "157/157 [==============================] - 34s 217ms/step - loss: 0.1786 - accuracy: 0.9344 - val_loss: 0.3454 - val_accuracy: 0.8646\n",
            "Epoch 6/10\n",
            "157/157 [==============================] - 34s 219ms/step - loss: 0.1641 - accuracy: 0.9427 - val_loss: 0.2991 - val_accuracy: 0.8892\n",
            "Epoch 7/10\n",
            "157/157 [==============================] - 34s 215ms/step - loss: 0.1442 - accuracy: 0.9511 - val_loss: 0.4826 - val_accuracy: 0.8136\n",
            "Epoch 8/10\n",
            "157/157 [==============================] - 34s 215ms/step - loss: 0.1367 - accuracy: 0.9501 - val_loss: 0.3237 - val_accuracy: 0.8726\n",
            "Epoch 9/10\n",
            "157/157 [==============================] - 34s 216ms/step - loss: 0.1265 - accuracy: 0.9566 - val_loss: 0.3471 - val_accuracy: 0.8840\n",
            "Epoch 10/10\n",
            "157/157 [==============================] - 34s 215ms/step - loss: 0.1211 - accuracy: 0.9597 - val_loss: 0.3543 - val_accuracy: 0.8818\n"
          ]
        }
      ]
    },
    {
      "cell_type": "code",
      "metadata": {
        "id": "c36CUjVGtOOQ"
      },
      "source": [
        "# 학습과정 시각화를 위한 정보 추출\n",
        "acc = history.history['accuracy']\n",
        "val_acc = history.history['val_accuracy']\n",
        "loss = history.history['loss']\n",
        "val_loss = history.history['val_loss']\n",
        "\n",
        "epochs = range(1, len(acc) + 1)"
      ],
      "execution_count": 18,
      "outputs": []
    },
    {
      "cell_type": "code",
      "metadata": {
        "id": "plOhTdYctSKC",
        "colab": {
          "base_uri": "https://localhost:8080/",
          "height": 281
        },
        "outputId": "b164191c-75f8-4cae-be9d-260f0e58c731"
      },
      "source": [
        "# 정합도 정보 시각화\n",
        "plt.plot(epochs, acc, label='Training acc')\n",
        "plt.plot(epochs, val_acc, label='Validation acc')\n",
        "plt.title('Training and validation accuracy')\n",
        "plt.legend()\n",
        "plt.show()"
      ],
      "execution_count": 19,
      "outputs": [
        {
          "output_type": "display_data",
          "data": {
            "image/png": "[encoded data removed]",
            "text/plain": [
              "<Figure size 432x288 with 1 Axes>"
            ]
          },
          "metadata": {
            "needs_background": "light"
          }
        }
      ]
    },
    {
      "cell_type": "code",
      "metadata": {
        "id": "5EUQzV1GtV7H",
        "colab": {
          "base_uri": "https://localhost:8080/",
          "height": 281
        },
        "outputId": "1822ec92-579d-4d8b-bfd7-ea33a15288a2"
      },
      "source": [
        "# loss 정보 시각화\n",
        "plt.plot(epochs, loss, label='Training loss')\n",
        "plt.plot(epochs, val_loss, label='Validation loss')\n",
        "plt.title('Training and validation loss')\n",
        "plt.legend()\n",
        "\n",
        "plt.show()"
      ],
      "execution_count": 20,
      "outputs": [
        {
          "output_type": "display_data",
          "data": {
            "image/png": "[encoded data removed]",
            "text/plain": [
              "<Figure size 432x288 with 1 Axes>"
            ]
          },
          "metadata": {
            "needs_background": "light"
          }
        }
      ]
    },
    {
      "cell_type": "code",
      "metadata": {
        "id": "1dIM7a4mtYkX",
        "colab": {
          "base_uri": "https://localhost:8080/"
        },
        "outputId": "72a27ea4-de1e-4f58-d958-5ab7bea6e15d"
      },
      "source": [
        "# 테스트 데이터 셋을 통한 성능 측정\n",
        "test_loss, test_acc = model.evaluate(x=input_test, y=y_test)"
      ],
      "execution_count": 21,
      "outputs": [
        {
          "output_type": "stream",
          "name": "stdout",
          "text": [
            "782/782 [==============================] - 71s 91ms/step - loss: 0.4012 - accuracy: 0.8668\n"
          ]
        }
      ]
    }
  ]
}