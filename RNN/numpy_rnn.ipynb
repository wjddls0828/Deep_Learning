{
  "nbformat": 4,
  "nbformat_minor": 0,
  "metadata": {
    "colab": {
      "name": "numpy_rnn",
      "provenance": [],
      "collapsed_sections": []
    },
    "kernelspec": {
      "name": "python3",
      "display_name": "Python 3"
    },
    "language_info": {
      "name": "python"
    }
  },
  "cells": [
    {
      "cell_type": "code",
      "metadata": {
        "id": "VoIc4-kxjbUs"
      },
      "source": [
        "import numpy as np"
      ],
      "execution_count": 1,
      "outputs": []
    },
    {
      "cell_type": "code",
      "metadata": {
        "id": "qe7j2L9SjeNO"
      },
      "source": [
        "timesteps = 100\n",
        "input_features = 32\n",
        "output_features = 64"
      ],
      "execution_count": 2,
      "outputs": []
    },
    {
      "cell_type": "code",
      "metadata": {
        "id": "1qM9gjUkjmS8"
      },
      "source": [
        "inputs = np.random.random((timesteps, input_features))"
      ],
      "execution_count": 3,
      "outputs": []
    },
    {
      "cell_type": "code",
      "metadata": {
        "id": "-o5MghYKjtMZ"
      },
      "source": [
        "state_t = np.zeros((output_features,))"
      ],
      "execution_count": 4,
      "outputs": []
    },
    {
      "cell_type": "code",
      "metadata": {
        "id": "PXaCuchljxgt"
      },
      "source": [
        "Wx = np.random.random((output_features, input_features))\n",
        "Wh = np.random.random((output_features, output_features))\n",
        "b = np.random.random((output_features, ))"
      ],
      "execution_count": 5,
      "outputs": []
    },
    {
      "cell_type": "code",
      "metadata": {
        "id": "xMawRZ1Rj9fl"
      },
      "source": [
        "outputs = []"
      ],
      "execution_count": 6,
      "outputs": []
    },
    {
      "cell_type": "code",
      "metadata": {
        "id": "bS3EKl1rkJPe"
      },
      "source": [
        "for input in inputs:\n",
        "  output_tmp = np.tanh(np.dot(Wx, input) + np.dot(Wh, state_t) + b)\n",
        "  outputs.append(output_tmp)\n",
        "\n",
        "  state_t = output_tmp"
      ],
      "execution_count": 7,
      "outputs": []
    }
  ]
}