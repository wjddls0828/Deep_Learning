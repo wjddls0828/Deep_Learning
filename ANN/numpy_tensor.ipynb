{
  "nbformat": 4,
  "nbformat_minor": 0,
  "metadata": {
    "colab": {
      "name": "numpy_tensor.ipynb",
      "provenance": [],
      "collapsed_sections": []
    },
    "kernelspec": {
      "name": "python3",
      "display_name": "Python 3"
    },
    "language_info": {
      "name": "python"
    }
  },
  "cells": [
    {
      "cell_type": "code",
      "metadata": {
        "id": "LRoOlRKBiw81"
      },
      "source": [
        "import numpy as np"
      ],
      "execution_count": 2,
      "outputs": []
    },
    {
      "cell_type": "code",
      "metadata": {
        "id": "4hXYuNM1i3We"
      },
      "source": [
        "d0_tensor=np.array(3)"
      ],
      "execution_count": 3,
      "outputs": []
    },
    {
      "cell_type": "code",
      "metadata": {
        "colab": {
          "base_uri": "https://localhost:8080/"
        },
        "id": "rhJKXMy6jLja",
        "outputId": "1ffb76b5-6a66-4128-bdd0-8b5c3815c35e"
      },
      "source": [
        "d0_tensor = np.array(3)\n",
        "\n",
        "# 스칼라 텐서 객체 속성 정보 출력\n",
        "print('*******1. 스칼라(0D 텐서)*******')\n",
        "print('차원        : ', d0_tensor.ndim)\n",
        "print('크기        : ', d0_tensor.shape)\n",
        "print('데이터 타입 : ', d0_tensor.dtype)"
      ],
      "execution_count": 7,
      "outputs": [
        {
          "output_type": "stream",
          "name": "stdout",
          "text": [
            "*******1. 스칼라(0D 텐서)*******\n",
            "차원        :  0\n",
            "크기        :  ()\n",
            "데이터 타입 :  int64\n"
          ]
        }
      ]
    },
    {
      "cell_type": "code",
      "metadata": {
        "id": "G9KyBei3jQdO"
      },
      "source": [
        "d1_tensor=np.array([1.,2.,3.,4.,5.])"
      ],
      "execution_count": 8,
      "outputs": []
    },
    {
      "cell_type": "code",
      "metadata": {
        "colab": {
          "base_uri": "https://localhost:8080/"
        },
        "id": "90Kc4SXUjZcE",
        "outputId": "155ca7a0-d047-488d-ba4e-bf045c028da6"
      },
      "source": [
        "# 생성한 벡터 텐서 객체 속성 정보 출력\n",
        "print('\\n*******2. 벡터(1D 텐서)*******')\n",
        "print('차원        : ',d1_tensor.ndim)\n",
        "print('크기        : ', d1_tensor.shape)\n",
        "print('데이터 타입 : ', d1_tensor.dtype)\n"
      ],
      "execution_count": 9,
      "outputs": [
        {
          "output_type": "stream",
          "name": "stdout",
          "text": [
            "\n",
            "*******2. 벡터(1D 텐서)*******\n",
            "차원        :  1\n",
            "크기        :  (5,)\n",
            "데이터 타입 :  float64\n"
          ]
        }
      ]
    },
    {
      "cell_type": "code",
      "metadata": {
        "id": "tzuwBOYgjcdP"
      },
      "source": [
        "d2_tensor=np.array([[1,2]\n",
        "                    ,[2,3],\n",
        "                    [3,4]])"
      ],
      "execution_count": 12,
      "outputs": []
    },
    {
      "cell_type": "code",
      "metadata": {
        "colab": {
          "base_uri": "https://localhost:8080/"
        },
        "id": "me8scR8OkEj9",
        "outputId": "b8d5ea12-c84f-4458-b27a-2c18407232d3"
      },
      "source": [
        "# 생성한 행렬 텐서 객체 속성 정보 출력\n",
        "print('\\n*******3. 행렬(2D 텐서)*******')\n",
        "print('차원        : ',d2_tensor.ndim)\n",
        "print('크기        : ', d2_tensor.shape)\n",
        "print('데이터 타입 : ', d2_tensor.dtype)"
      ],
      "execution_count": 13,
      "outputs": [
        {
          "output_type": "stream",
          "name": "stdout",
          "text": [
            "\n",
            "*******3. 행렬(2D 텐서)*******\n",
            "차원        :  2\n",
            "크기        :  (3, 2)\n",
            "데이터 타입 :  int64\n"
          ]
        }
      ]
    },
    {
      "cell_type": "code",
      "metadata": {
        "id": "UWjlIXXckJ27"
      },
      "source": [
        "#shape:(2,3,4)\n",
        "d3_tensor=np.array([[[2,2,2,2],[3,3,3,3],[4,4,4,4]],\n",
        "                   [[5,5,5,5],[6,6,6,6],[7,7,7,7]]])"
      ],
      "execution_count": 20,
      "outputs": []
    },
    {
      "cell_type": "code",
      "metadata": {
        "colab": {
          "base_uri": "https://localhost:8080/"
        },
        "id": "QNoVZU_5nVeF",
        "outputId": "55444b8a-708f-46fe-b07a-17ba5468440a"
      },
      "source": [
        "# 생성한 3D 텐서 객체 속성 정보 출력\n",
        "print('\\n*******4. 3D 텐서*******')\n",
        "print('차원        : ', d3_tensor.ndim)\n",
        "print('크기        : ',d3_tensor.shape)\n",
        "print('데이터 타입 : ', d3_tensor.dtype)"
      ],
      "execution_count": 21,
      "outputs": [
        {
          "output_type": "stream",
          "name": "stdout",
          "text": [
            "\n",
            "*******4. 3D 텐서*******\n",
            "차원        :  3\n",
            "크기        :  (2, 3, 4)\n",
            "데이터 타입 :  int64\n"
          ]
        }
      ]
    }
  ]
}