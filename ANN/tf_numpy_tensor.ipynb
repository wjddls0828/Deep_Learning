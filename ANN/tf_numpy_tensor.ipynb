{
  "nbformat": 4,
  "nbformat_minor": 0,
  "metadata": {
    "colab": {
      "name": "tf_numpy_tensor.ipynb",
      "provenance": [],
      "collapsed_sections": []
    },
    "kernelspec": {
      "name": "python3",
      "display_name": "Python 3"
    },
    "language_info": {
      "name": "python"
    }
  },
  "cells": [
    {
      "cell_type": "code",
      "metadata": {
        "id": "h71lB9-Un1Xn"
      },
      "source": [
        "import tensorflow as tf\n",
        "import numpy as np"
      ],
      "execution_count": 1,
      "outputs": []
    },
    {
      "cell_type": "code",
      "metadata": {
        "id": "UJmlwFfDoEY4"
      },
      "source": [
        "list1=[[[1,2]],\n",
        "       [[3,4]],\n",
        "       [[5,6]]]"
      ],
      "execution_count": 2,
      "outputs": []
    },
    {
      "cell_type": "code",
      "metadata": {
        "colab": {
          "base_uri": "https://localhost:8080/"
        },
        "id": "zoj7f5zQoTz7",
        "outputId": "cbe131f9-6982-450f-b415-0654b9008616"
      },
      "source": [
        "d3_tensor=np.array(list1, dtype='int32')\n",
        "# 생성한 상수 텐서 객체 속성 정보 출력\n",
        "print('*******1. 상수 텐서 객체*******')\n",
        "print('차원        : ', d3_tensor.ndim)\n",
        "print('크기        : ', d3_tensor.shape)\n",
        "print('데이터 타입 : ', d3_tensor.dtype)\n",
        "type(d3_tensor)"
      ],
      "execution_count": 13,
      "outputs": [
        {
          "output_type": "stream",
          "name": "stdout",
          "text": [
            "*******1. 상수 텐서 객체*******\n",
            "차원        :  3\n",
            "크기        :  (3, 1, 2)\n",
            "데이터 타입 :  int32\n"
          ]
        },
        {
          "output_type": "execute_result",
          "data": {
            "text/plain": [
              "numpy.ndarray"
            ]
          },
          "metadata": {},
          "execution_count": 13
        }
      ]
    },
    {
      "cell_type": "code",
      "metadata": {
        "colab": {
          "base_uri": "https://localhost:8080/"
        },
        "id": "RjIXhW9uomr_",
        "outputId": "a3700ae6-65c2-450c-f7bc-c552c921fb7a"
      },
      "source": [
        "#tensorflow로 상수 텐서 객체 생성\n",
        "d3_tensor2=tf.constant(list1)\n",
        "# 생성한 상수 텐서 객체 속성 정보 출력\n",
        "print('*******1. 상수 텐서 객체*******')\n",
        "print('차원        : ', d3_tensor.ndim)\n",
        "print('크기        : ', d3_tensor.shape)\n",
        "print('데이터 타입 : ', d3_tensor.dtype)\n",
        "type(d3_tensor2)"
      ],
      "execution_count": 12,
      "outputs": [
        {
          "output_type": "stream",
          "name": "stdout",
          "text": [
            "*******1. 상수 텐서 객체*******\n",
            "차원        :  3\n",
            "크기        :  (3, 1, 2)\n",
            "데이터 타입 :  int32\n"
          ]
        },
        {
          "output_type": "execute_result",
          "data": {
            "text/plain": [
              "tensorflow.python.framework.ops.EagerTensor"
            ]
          },
          "metadata": {},
          "execution_count": 12
        }
      ]
    },
    {
      "cell_type": "code",
      "metadata": {
        "colab": {
          "base_uri": "https://localhost:8080/"
        },
        "id": "dmLAXMKFpIHk",
        "outputId": "c29db136-f773-497b-d1d4-20aabd10db87"
      },
      "source": [
        "np_d3_tensor = d3_tensor2.numpy()\n",
        "print('\\n*******2. ndarray 객체*******')\n",
        "print('차원        : ', np_d3_tensor.ndim)\n",
        "print('크기        : ', np_d3_tensor.shape)\n",
        "print('데이터 타입 : ', np_d3_tensor.dtype)\n",
        "type(np_d3_tensor)"
      ],
      "execution_count": 11,
      "outputs": [
        {
          "output_type": "stream",
          "name": "stdout",
          "text": [
            "\n",
            "*******2. ndarray 객체*******\n",
            "차원        :  3\n",
            "크기        :  (3, 1, 2)\n",
            "데이터 타입 :  int32\n"
          ]
        },
        {
          "output_type": "execute_result",
          "data": {
            "text/plain": [
              "numpy.ndarray"
            ]
          },
          "metadata": {},
          "execution_count": 11
        }
      ]
    },
    {
      "cell_type": "code",
      "metadata": {
        "colab": {
          "base_uri": "https://localhost:8080/"
        },
        "id": "sfiK9OiLpoPS",
        "outputId": "7d0bdb9f-b12a-4cca-cbf8-58eb877b983a"
      },
      "source": [
        "d3_np_tensor=np.array([[[1],[2],[3]],[[4],[5],[6]]])\n",
        "d3_np_tensor.dtype"
      ],
      "execution_count": 21,
      "outputs": [
        {
          "output_type": "execute_result",
          "data": {
            "text/plain": [
              "dtype('int64')"
            ]
          },
          "metadata": {},
          "execution_count": 21
        }
      ]
    },
    {
      "cell_type": "code",
      "metadata": {
        "colab": {
          "base_uri": "https://localhost:8080/"
        },
        "id": "Qo8zufpCp2Fg",
        "outputId": "9e9e5e9b-1c63-48eb-f514-9721b8123eff"
      },
      "source": [
        "d3_np_tensor=d3_np_tensor.astype(np.int32)\n",
        "d3_np_tensor.dtype"
      ],
      "execution_count": 23,
      "outputs": [
        {
          "output_type": "execute_result",
          "data": {
            "text/plain": [
              "dtype('int32')"
            ]
          },
          "metadata": {},
          "execution_count": 23
        }
      ]
    },
    {
      "cell_type": "code",
      "metadata": {
        "colab": {
          "base_uri": "https://localhost:8080/"
        },
        "id": "-F1_UATEp-hv",
        "outputId": "6ff5c851-846c-46da-f835-26a4d66fc6d1"
      },
      "source": [
        "d3_var_tensor=tf.Variable(d3_np_tensor)\n",
        "print('\\n*******3. 변수 텐서 객체*******')\n",
        "print('크기        : ', d3_var_tensor.shape)\n",
        "print('데이터 타입 : ', d3_var_tensor.dtype)\n",
        "type(d3_var_tensor)"
      ],
      "execution_count": 24,
      "outputs": [
        {
          "output_type": "stream",
          "name": "stdout",
          "text": [
            "\n",
            "*******3. 변수 텐서 객체*******\n",
            "크기        :  (2, 3, 1)\n",
            "데이터 타입 :  <dtype: 'int32'>\n"
          ]
        },
        {
          "output_type": "execute_result",
          "data": {
            "text/plain": [
              "tensorflow.python.ops.resource_variable_ops.ResourceVariable"
            ]
          },
          "metadata": {},
          "execution_count": 24
        }
      ]
    }
  ]
}