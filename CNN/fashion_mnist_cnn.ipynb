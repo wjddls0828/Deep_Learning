{
  "nbformat": 4,
  "nbformat_minor": 0,
  "metadata": {
    "colab": {
      "name": "fashion_mnist_cnn",
      "provenance": [],
      "collapsed_sections": []
    },
    "kernelspec": {
      "name": "python3",
      "display_name": "Python 3"
    },
    "language_info": {
      "name": "python"
    },
    "accelerator": "GPU"
  },
  "cells": [
    {
      "cell_type": "code",
      "metadata": {
        "id": "_tfE9pRQjH05"
      },
      "source": [
        "from tensorflow.keras.datasets import fashion_mnist"
      ],
      "execution_count": 1,
      "outputs": []
    },
    {
      "cell_type": "code",
      "metadata": {
        "id": "gmSA1-NQkZvn",
        "colab": {
          "base_uri": "https://localhost:8080/"
        },
        "outputId": "e4655f6d-9aad-4a53-f4cc-b7bcfd74c378"
      },
      "source": [
        "(train_x, train_y), (test_x, test_y) = fashion_mnist.load_data()"
      ],
      "execution_count": 2,
      "outputs": [
        {
          "output_type": "stream",
          "name": "stdout",
          "text": [
            "Downloading data from https://storage.googleapis.com/tensorflow/tf-keras-datasets/train-labels-idx1-ubyte.gz\n",
            "32768/29515 [=================================] - 0s 0us/step\n",
            "40960/29515 [=========================================] - 0s 0us/step\n",
            "Downloading data from https://storage.googleapis.com/tensorflow/tf-keras-datasets/train-images-idx3-ubyte.gz\n",
            "26427392/26421880 [==============================] - 0s 0us/step\n",
            "26435584/26421880 [==============================] - 0s 0us/step\n",
            "Downloading data from https://storage.googleapis.com/tensorflow/tf-keras-datasets/t10k-labels-idx1-ubyte.gz\n",
            "16384/5148 [===============================================================================================] - 0s 0us/step\n",
            "Downloading data from https://storage.googleapis.com/tensorflow/tf-keras-datasets/t10k-images-idx3-ubyte.gz\n",
            "4423680/4422102 [==============================] - 0s 0us/step\n",
            "4431872/4422102 [==============================] - 0s 0us/step\n"
          ]
        }
      ]
    },
    {
      "cell_type": "code",
      "metadata": {
        "colab": {
          "base_uri": "https://localhost:8080/"
        },
        "id": "Sbn5Gl39kq0L",
        "outputId": "73a54ae1-d664-449a-f276-39a8abe78183"
      },
      "source": [
        "train_x.shape, train_y.shape"
      ],
      "execution_count": 3,
      "outputs": [
        {
          "output_type": "execute_result",
          "data": {
            "text/plain": [
              "((60000, 28, 28), (60000,))"
            ]
          },
          "metadata": {},
          "execution_count": 3
        }
      ]
    },
    {
      "cell_type": "code",
      "metadata": {
        "colab": {
          "base_uri": "https://localhost:8080/"
        },
        "id": "uDRw2l5okymX",
        "outputId": "55708c4c-3c02-4ff2-ad65-47a59c076548"
      },
      "source": [
        "test_x.shape, test_y.shape"
      ],
      "execution_count": 4,
      "outputs": [
        {
          "output_type": "execute_result",
          "data": {
            "text/plain": [
              "((10000, 28, 28), (10000,))"
            ]
          },
          "metadata": {},
          "execution_count": 4
        }
      ]
    },
    {
      "cell_type": "code",
      "metadata": {
        "colab": {
          "base_uri": "https://localhost:8080/"
        },
        "id": "5ZNkR57kk7WL",
        "outputId": "4737f064-03ea-4a21-878a-1b1f2a66e914"
      },
      "source": [
        "train_y[:10]"
      ],
      "execution_count": 5,
      "outputs": [
        {
          "output_type": "execute_result",
          "data": {
            "text/plain": [
              "array([9, 0, 0, 3, 0, 2, 7, 2, 5, 5], dtype=uint8)"
            ]
          },
          "metadata": {},
          "execution_count": 5
        }
      ]
    },
    {
      "cell_type": "code",
      "metadata": {
        "id": "s4wfrZMxlerl"
      },
      "source": [
        "class_names = ['T-shirt/top', 'Trouser', 'Pullover', 'Dress', 'Coat',\n",
        "               'Sandal', 'Shirt', 'Sneaker', 'Bag', 'Ankle boot']"
      ],
      "execution_count": 6,
      "outputs": []
    },
    {
      "cell_type": "code",
      "metadata": {
        "id": "yp44K1Hxlsme"
      },
      "source": [
        "train_x = train_x.reshape((-1, 28, 28, 1))\n",
        "test_x = test_x.reshape((-1, 28, 28, 1))"
      ],
      "execution_count": 7,
      "outputs": []
    },
    {
      "cell_type": "code",
      "metadata": {
        "colab": {
          "base_uri": "https://localhost:8080/"
        },
        "id": "QA2vGQWenUZn",
        "outputId": "b343fa0e-777d-4906-b64b-c22b77f3230c"
      },
      "source": [
        "train_x.shape, test_x.shape"
      ],
      "execution_count": 8,
      "outputs": [
        {
          "output_type": "execute_result",
          "data": {
            "text/plain": [
              "((60000, 28, 28, 1), (10000, 28, 28, 1))"
            ]
          },
          "metadata": {},
          "execution_count": 8
        }
      ]
    },
    {
      "cell_type": "code",
      "metadata": {
        "id": "WNCu33hXnZQD"
      },
      "source": [
        "from tensorflow.keras import models, layers"
      ],
      "execution_count": 9,
      "outputs": []
    },
    {
      "cell_type": "code",
      "metadata": {
        "id": "8ocJOEDvp5Mn"
      },
      "source": [
        "from tensorflow.keras.models import Sequential\n",
        "from tensorflow.keras.layers import Conv2D, MaxPool2D"
      ],
      "execution_count": 10,
      "outputs": []
    },
    {
      "cell_type": "code",
      "metadata": {
        "id": "-xiLrMDOu70m",
        "colab": {
          "base_uri": "https://localhost:8080/",
          "height": 172
        },
        "outputId": "f1a9d11b-ecee-40b4-a1a2-ea61e62c655f"
      },
      "source": [
        "del model"
      ],
      "execution_count": 11,
      "outputs": [
        {
          "output_type": "error",
          "ename": "NameError",
          "evalue": "ignored",
          "traceback": [
            "\u001b[0;31m---------------------------------------------------------------------------\u001b[0m",
            "\u001b[0;31mNameError\u001b[0m                                 Traceback (most recent call last)",
            "\u001b[0;32m<ipython-input-11-a7ab210f85a1>\u001b[0m in \u001b[0;36m<module>\u001b[0;34m()\u001b[0m\n\u001b[0;32m----> 1\u001b[0;31m \u001b[0;32mdel\u001b[0m \u001b[0mmodel\u001b[0m\u001b[0;34m\u001b[0m\u001b[0;34m\u001b[0m\u001b[0m\n\u001b[0m",
            "\u001b[0;31mNameError\u001b[0m: name 'model' is not defined"
          ]
        }
      ]
    },
    {
      "cell_type": "code",
      "metadata": {
        "id": "hi8A-B-asNmV"
      },
      "source": [
        "model = models.Sequential()"
      ],
      "execution_count": 12,
      "outputs": []
    },
    {
      "cell_type": "code",
      "metadata": {
        "id": "gy8cqkcGqGLk"
      },
      "source": [
        "# 1st Conv2d\n",
        "#  - filter_cnt : 32 - kerner_size : (3,3) - relu\n",
        "model.add(layers.Conv2D(filters=32, kernel_size=3, activation='relu',\n",
        "                        input_shape=(28, 28, 1),\n",
        "                        name='block_1_conv'))\n",
        "# 1st max pooling\n",
        "# - pool_size = (2,2)\n",
        "model.add(layers.MaxPool2D(pool_size=2,name='block_1_pool'))\n",
        "# 2nd Conv2d\n",
        "#  - filter_cnt : 64 - kerner_size : (3,3) - relu\n",
        "model.add(layers.Conv2D(filters=64, kernel_size=3, activation='relu',\n",
        "                        name='block_2_conv'))\n",
        "# 2nd max pooling\n",
        "# - pool_size = (2,2)\n",
        "model.add(layers.MaxPool2D(pool_size=2, name='block_2_pool'))\n",
        "# 3rd Conv2d\n",
        "#  - filter_cnt : 64 - kerner_size : (3,3) - relu\n",
        "model.add(layers.Conv2D(filters=64, kernel_size=3, activation='relu',\n",
        "                        name='block_3_conv'))\n",
        "# Flatten\n",
        "model.add(layers.Flatten())\n",
        "\n",
        "#classification module\n",
        "model.add(layers.Dense(units=64, activation='relu'))\n",
        "model.add(layers.Dense(units=10, activation='softmax'))"
      ],
      "execution_count": 13,
      "outputs": []
    },
    {
      "cell_type": "code",
      "metadata": {
        "colab": {
          "base_uri": "https://localhost:8080/"
        },
        "id": "jg9ty5VCukHK",
        "outputId": "da26b09b-2620-47fc-c837-8a79879d0ba5"
      },
      "source": [
        "model.summary()"
      ],
      "execution_count": 14,
      "outputs": [
        {
          "output_type": "stream",
          "name": "stdout",
          "text": [
            "Model: \"sequential\"\n",
            "_________________________________________________________________\n",
            "Layer (type)                 Output Shape              Param #   \n",
            "=================================================================\n",
            "block_1_conv (Conv2D)        (None, 26, 26, 32)        320       \n",
            "_________________________________________________________________\n",
            "block_1_pool (MaxPooling2D)  (None, 13, 13, 32)        0         \n",
            "_________________________________________________________________\n",
            "block_2_conv (Conv2D)        (None, 11, 11, 64)        18496     \n",
            "_________________________________________________________________\n",
            "block_2_pool (MaxPooling2D)  (None, 5, 5, 64)          0         \n",
            "_________________________________________________________________\n",
            "block_3_conv (Conv2D)        (None, 3, 3, 64)          36928     \n",
            "_________________________________________________________________\n",
            "flatten (Flatten)            (None, 576)               0         \n",
            "_________________________________________________________________\n",
            "dense (Dense)                (None, 64)                36928     \n",
            "_________________________________________________________________\n",
            "dense_1 (Dense)              (None, 10)                650       \n",
            "=================================================================\n",
            "Total params: 93,322\n",
            "Trainable params: 93,322\n",
            "Non-trainable params: 0\n",
            "_________________________________________________________________\n"
          ]
        }
      ]
    },
    {
      "cell_type": "code",
      "metadata": {
        "id": "TMXg2SEnyMZK"
      },
      "source": [
        "model.compile(loss='sparse_categorical_crossentropy',\n",
        "              optimizer='rmsprop',\n",
        "              metrics=['accuracy'])"
      ],
      "execution_count": 15,
      "outputs": []
    },
    {
      "cell_type": "code",
      "metadata": {
        "colab": {
          "base_uri": "https://localhost:8080/"
        },
        "id": "DkGcsRpgzHKe",
        "outputId": "3feab241-86f1-4b94-c17d-3d5fa2cc8576"
      },
      "source": [
        "model.fit(x=train_x, y=train_y, epochs=50, batch_size=128,\n",
        "          validation_split=0.2)"
      ],
      "execution_count": 16,
      "outputs": [
        {
          "output_type": "stream",
          "name": "stdout",
          "text": [
            "Epoch 1/50\n",
            "375/375 [==============================] - 35s 15ms/step - loss: 0.9339 - accuracy: 0.7757 - val_loss: 0.4189 - val_accuracy: 0.8471\n",
            "Epoch 2/50\n",
            "375/375 [==============================] - 5s 12ms/step - loss: 0.3599 - accuracy: 0.8695 - val_loss: 0.3605 - val_accuracy: 0.8649\n",
            "Epoch 3/50\n",
            "375/375 [==============================] - 5s 12ms/step - loss: 0.2956 - accuracy: 0.8921 - val_loss: 0.3320 - val_accuracy: 0.8815\n",
            "Epoch 4/50\n",
            "375/375 [==============================] - 5s 13ms/step - loss: 0.2630 - accuracy: 0.9049 - val_loss: 0.3157 - val_accuracy: 0.8873\n",
            "Epoch 5/50\n",
            "375/375 [==============================] - 5s 13ms/step - loss: 0.2385 - accuracy: 0.9112 - val_loss: 0.3490 - val_accuracy: 0.8878\n",
            "Epoch 6/50\n",
            "375/375 [==============================] - 5s 12ms/step - loss: 0.2160 - accuracy: 0.9188 - val_loss: 0.3025 - val_accuracy: 0.8976\n",
            "Epoch 7/50\n",
            "375/375 [==============================] - 5s 12ms/step - loss: 0.1992 - accuracy: 0.9255 - val_loss: 0.3424 - val_accuracy: 0.8908\n",
            "Epoch 8/50\n",
            "375/375 [==============================] - 5s 12ms/step - loss: 0.1861 - accuracy: 0.9321 - val_loss: 0.3702 - val_accuracy: 0.8942\n",
            "Epoch 9/50\n",
            "375/375 [==============================] - 5s 12ms/step - loss: 0.1759 - accuracy: 0.9355 - val_loss: 0.3452 - val_accuracy: 0.8987\n",
            "Epoch 10/50\n",
            "375/375 [==============================] - 5s 12ms/step - loss: 0.1612 - accuracy: 0.9395 - val_loss: 0.3796 - val_accuracy: 0.8977\n",
            "Epoch 11/50\n",
            "375/375 [==============================] - 5s 13ms/step - loss: 0.1543 - accuracy: 0.9432 - val_loss: 0.3859 - val_accuracy: 0.8863\n",
            "Epoch 12/50\n",
            "375/375 [==============================] - 5s 13ms/step - loss: 0.1473 - accuracy: 0.9465 - val_loss: 0.4291 - val_accuracy: 0.8915\n",
            "Epoch 13/50\n",
            "375/375 [==============================] - 5s 12ms/step - loss: 0.1435 - accuracy: 0.9484 - val_loss: 0.4501 - val_accuracy: 0.8965\n",
            "Epoch 14/50\n",
            "375/375 [==============================] - 5s 12ms/step - loss: 0.1358 - accuracy: 0.9511 - val_loss: 0.4649 - val_accuracy: 0.8983\n",
            "Epoch 15/50\n",
            "375/375 [==============================] - 5s 12ms/step - loss: 0.1335 - accuracy: 0.9516 - val_loss: 0.4719 - val_accuracy: 0.8943\n",
            "Epoch 16/50\n",
            "375/375 [==============================] - 5s 13ms/step - loss: 0.1274 - accuracy: 0.9543 - val_loss: 0.4653 - val_accuracy: 0.8921\n",
            "Epoch 17/50\n",
            "375/375 [==============================] - 5s 13ms/step - loss: 0.1256 - accuracy: 0.9555 - val_loss: 0.4538 - val_accuracy: 0.8963\n",
            "Epoch 18/50\n",
            "375/375 [==============================] - 4s 12ms/step - loss: 0.1230 - accuracy: 0.9581 - val_loss: 0.5366 - val_accuracy: 0.8921\n",
            "Epoch 19/50\n",
            "375/375 [==============================] - 4s 12ms/step - loss: 0.1186 - accuracy: 0.9602 - val_loss: 0.5719 - val_accuracy: 0.8910\n",
            "Epoch 20/50\n",
            "375/375 [==============================] - 4s 12ms/step - loss: 0.1165 - accuracy: 0.9600 - val_loss: 0.6290 - val_accuracy: 0.9014\n",
            "Epoch 21/50\n",
            "375/375 [==============================] - 4s 12ms/step - loss: 0.1106 - accuracy: 0.9613 - val_loss: 0.6222 - val_accuracy: 0.8951\n",
            "Epoch 22/50\n",
            "375/375 [==============================] - 5s 12ms/step - loss: 0.1149 - accuracy: 0.9620 - val_loss: 0.6260 - val_accuracy: 0.8957\n",
            "Epoch 23/50\n",
            "375/375 [==============================] - 4s 12ms/step - loss: 0.1102 - accuracy: 0.9621 - val_loss: 0.6341 - val_accuracy: 0.8999\n",
            "Epoch 24/50\n",
            "375/375 [==============================] - 5s 12ms/step - loss: 0.1106 - accuracy: 0.9624 - val_loss: 0.8704 - val_accuracy: 0.8982\n",
            "Epoch 25/50\n",
            "375/375 [==============================] - 4s 12ms/step - loss: 0.1074 - accuracy: 0.9641 - val_loss: 0.8150 - val_accuracy: 0.8872\n",
            "Epoch 26/50\n",
            "375/375 [==============================] - 4s 12ms/step - loss: 0.1086 - accuracy: 0.9638 - val_loss: 0.6548 - val_accuracy: 0.8934\n",
            "Epoch 27/50\n",
            "375/375 [==============================] - 5s 12ms/step - loss: 0.1074 - accuracy: 0.9656 - val_loss: 1.0737 - val_accuracy: 0.8731\n",
            "Epoch 28/50\n",
            "375/375 [==============================] - 4s 12ms/step - loss: 0.1102 - accuracy: 0.9644 - val_loss: 0.7613 - val_accuracy: 0.8923\n",
            "Epoch 29/50\n",
            "375/375 [==============================] - 5s 12ms/step - loss: 0.1040 - accuracy: 0.9663 - val_loss: 0.7053 - val_accuracy: 0.8892\n",
            "Epoch 30/50\n",
            "375/375 [==============================] - 5s 12ms/step - loss: 0.1032 - accuracy: 0.9663 - val_loss: 0.6130 - val_accuracy: 0.8808\n",
            "Epoch 31/50\n",
            "375/375 [==============================] - 5s 12ms/step - loss: 0.1014 - accuracy: 0.9676 - val_loss: 0.8649 - val_accuracy: 0.8928\n",
            "Epoch 32/50\n",
            "375/375 [==============================] - 4s 12ms/step - loss: 0.1062 - accuracy: 0.9661 - val_loss: 0.7800 - val_accuracy: 0.8925\n",
            "Epoch 33/50\n",
            "375/375 [==============================] - 4s 11ms/step - loss: 0.1100 - accuracy: 0.9667 - val_loss: 0.9383 - val_accuracy: 0.8920\n",
            "Epoch 34/50\n",
            "375/375 [==============================] - 4s 11ms/step - loss: 0.1008 - accuracy: 0.9680 - val_loss: 0.7222 - val_accuracy: 0.8876\n",
            "Epoch 35/50\n",
            "375/375 [==============================] - 4s 11ms/step - loss: 0.1007 - accuracy: 0.9682 - val_loss: 0.6478 - val_accuracy: 0.8845\n",
            "Epoch 36/50\n",
            "375/375 [==============================] - 5s 12ms/step - loss: 0.0978 - accuracy: 0.9703 - val_loss: 0.8401 - val_accuracy: 0.8922\n",
            "Epoch 37/50\n",
            "375/375 [==============================] - 4s 11ms/step - loss: 0.0997 - accuracy: 0.9693 - val_loss: 1.0592 - val_accuracy: 0.8929\n",
            "Epoch 38/50\n",
            "375/375 [==============================] - 5s 12ms/step - loss: 0.1006 - accuracy: 0.9698 - val_loss: 0.8862 - val_accuracy: 0.8937\n",
            "Epoch 39/50\n",
            "375/375 [==============================] - 4s 11ms/step - loss: 0.0992 - accuracy: 0.9707 - val_loss: 1.3879 - val_accuracy: 0.8832\n",
            "Epoch 40/50\n",
            "375/375 [==============================] - 4s 11ms/step - loss: 0.0965 - accuracy: 0.9711 - val_loss: 0.8335 - val_accuracy: 0.8874\n",
            "Epoch 41/50\n",
            "375/375 [==============================] - 5s 12ms/step - loss: 0.1012 - accuracy: 0.9715 - val_loss: 1.1659 - val_accuracy: 0.8861\n",
            "Epoch 42/50\n",
            "375/375 [==============================] - 5s 12ms/step - loss: 0.1084 - accuracy: 0.9684 - val_loss: 1.0244 - val_accuracy: 0.8920\n",
            "Epoch 43/50\n",
            "375/375 [==============================] - 4s 11ms/step - loss: 0.0970 - accuracy: 0.9707 - val_loss: 0.9968 - val_accuracy: 0.8944\n",
            "Epoch 44/50\n",
            "375/375 [==============================] - 4s 11ms/step - loss: 0.1027 - accuracy: 0.9709 - val_loss: 0.9180 - val_accuracy: 0.8940\n",
            "Epoch 45/50\n",
            "375/375 [==============================] - 4s 11ms/step - loss: 0.1038 - accuracy: 0.9717 - val_loss: 1.2459 - val_accuracy: 0.8848\n",
            "Epoch 46/50\n",
            "375/375 [==============================] - 5s 12ms/step - loss: 0.0998 - accuracy: 0.9716 - val_loss: 0.9690 - val_accuracy: 0.8885\n",
            "Epoch 47/50\n",
            "375/375 [==============================] - 4s 11ms/step - loss: 0.1045 - accuracy: 0.9718 - val_loss: 0.9286 - val_accuracy: 0.8866\n",
            "Epoch 48/50\n",
            "375/375 [==============================] - 4s 11ms/step - loss: 0.0968 - accuracy: 0.9734 - val_loss: 1.0162 - val_accuracy: 0.8951\n",
            "Epoch 49/50\n",
            "375/375 [==============================] - 5s 12ms/step - loss: 0.0959 - accuracy: 0.9728 - val_loss: 0.9125 - val_accuracy: 0.8912\n",
            "Epoch 50/50\n",
            "375/375 [==============================] - 5s 12ms/step - loss: 0.1010 - accuracy: 0.9726 - val_loss: 1.1229 - val_accuracy: 0.8862\n"
          ]
        },
        {
          "output_type": "execute_result",
          "data": {
            "text/plain": [
              "<keras.callbacks.History at 0x7f72202f4d90>"
            ]
          },
          "metadata": {},
          "execution_count": 16
        }
      ]
    },
    {
      "cell_type": "code",
      "metadata": {
        "colab": {
          "base_uri": "https://localhost:8080/"
        },
        "id": "Lm5zSRp0zll2",
        "outputId": "76b1251c-ca2a-408c-ba30-eebf505c1da7"
      },
      "source": [
        "loss, accuracy = model.evaluate(x=test_x, y=test_y)"
      ],
      "execution_count": 17,
      "outputs": [
        {
          "output_type": "stream",
          "name": "stdout",
          "text": [
            "313/313 [==============================] - 1s 3ms/step - loss: 1.2255 - accuracy: 0.8875\n"
          ]
        }
      ]
    }
  ]
}