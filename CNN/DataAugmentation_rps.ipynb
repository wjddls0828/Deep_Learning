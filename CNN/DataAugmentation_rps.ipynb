{
  "nbformat": 4,
  "nbformat_minor": 0,
  "metadata": {
    "colab": {
      "name": "DataAugmentation_rps",
      "provenance": [],
      "collapsed_sections": []
    },
    "kernelspec": {
      "display_name": "Python 3",
      "language": "python",
      "name": "python3"
    },
    "language_info": {
      "codemirror_mode": {
        "name": "ipython",
        "version": 3
      },
      "file_extension": ".py",
      "mimetype": "text/x-python",
      "name": "python",
      "nbconvert_exporter": "python",
      "pygments_lexer": "ipython3",
      "version": "3.6.8"
    },
    "accelerator": "GPU"
  },
  "cells": [
    {
      "cell_type": "code",
      "metadata": {
        "id": "nttUXJ5-8GBu"
      },
      "source": [
        "from tensorflow import keras"
      ],
      "execution_count": 1,
      "outputs": []
    },
    {
      "cell_type": "markdown",
      "metadata": {
        "id": "AsvLNgTDOhwV"
      },
      "source": [
        "## Data Augmention 을 통한 가위-바위-보 데이터 셋 분류 성능 개선"
      ]
    },
    {
      "cell_type": "markdown",
      "metadata": {
        "id": "awpp41STJMNX"
      },
      "source": [
        "### Step 1. Input tensor 와 Target tensor 준비(훈련데이터)"
      ]
    },
    {
      "cell_type": "markdown",
      "metadata": {
        "id": "9fb6nJMfPD_W"
      },
      "source": [
        "(1) 가위-바위-보 데이터셋 다운로드"
      ]
    },
    {
      "cell_type": "code",
      "metadata": {
        "id": "66m-HupE-MD1",
        "colab": {
          "base_uri": "https://localhost:8080/"
        },
        "outputId": "da8dc7dc-e26a-41ac-f93b-80b464b95e8f"
      },
      "source": [
        "url = 'https://storage.googleapis.com/laurencemoroney-blog.appspot.com/rps.zip'\n",
        "\n",
        "path_to_zip = keras.utils.get_file('rps.zip',\n",
        "                                   origin=url,\n",
        "                                   extract=True,\n",
        "                                   cache_dir='/content')"
      ],
      "execution_count": 2,
      "outputs": [
        {
          "output_type": "stream",
          "name": "stdout",
          "text": [
            "Downloading data from https://storage.googleapis.com/laurencemoroney-blog.appspot.com/rps.zip\n",
            "200687616/200682221 [==============================] - 2s 0us/step\n",
            "200695808/200682221 [==============================] - 2s 0us/step\n"
          ]
        }
      ]
    },
    {
      "cell_type": "code",
      "metadata": {
        "id": "W76LYwIG25Cj",
        "colab": {
          "base_uri": "https://localhost:8080/"
        },
        "outputId": "e04c540c-e496-4a34-cea3-62c3878eb538"
      },
      "source": [
        "url = 'https://storage.googleapis.com/laurencemoroney-blog.appspot.com/rps-test-set.zip'\n",
        "\n",
        "path_to_zip = keras.utils.get_file('rps_test.zip',\n",
        "                                   origin=url,\n",
        "                                   extract=True,\n",
        "                                   cache_dir='/content')"
      ],
      "execution_count": 3,
      "outputs": [
        {
          "output_type": "stream",
          "name": "stdout",
          "text": [
            "Downloading data from https://storage.googleapis.com/laurencemoroney-blog.appspot.com/rps-test-set.zip\n",
            "29523968/29516758 [==============================] - 0s 0us/step\n",
            "29532160/29516758 [==============================] - 0s 0us/step\n"
          ]
        }
      ]
    },
    {
      "cell_type": "markdown",
      "metadata": {
        "id": "2AOJddjQPIgB"
      },
      "source": [
        "(2) ImageDataGenerator를 이용해 이미지 파일을 load 하기 위한 경로 지정"
      ]
    },
    {
      "cell_type": "code",
      "metadata": {
        "id": "4tdUe6aPwUHy"
      },
      "source": [
        "train_dir = '/content/datasets/rps'\n",
        "test_dir = '/content/datasets/rps-test-set'"
      ],
      "execution_count": 4,
      "outputs": []
    },
    {
      "cell_type": "markdown",
      "metadata": {
        "id": "9uupmn1IPN3J"
      },
      "source": [
        "(3) ImageDataGenerator 객체 생성  \n",
        "* 객체 생성 시 rescale 인자를 이용하여 텐서 내 원소의 범위를 [0 ~ 255] => [0 ~ 1] 로 ReScaling 진행\n",
        "* Data Augmentation 을 위한 정보들 설정"
      ]
    },
    {
      "cell_type": "code",
      "metadata": {
        "id": "ZMTsU6LoiQyQ"
      },
      "source": [
        "from tensorflow.keras.preprocessing.image import ImageDataGenerator"
      ],
      "execution_count": 5,
      "outputs": []
    },
    {
      "cell_type": "code",
      "metadata": {
        "id": "8AjVlr3_MISA"
      },
      "source": [
        "# Augmentation 수행 인자\n",
        "# rotation : 40\n",
        "# width : 0.2\n",
        "# hight : 0.2\n",
        "# share : 0.2\n",
        "# zoom : 0.2\n",
        "# horizontal : True\n",
        "train_datagen = ImageDataGenerator(\n",
        "    rescale=1./225.,\n",
        "    rotation_range=40,\n",
        "    width_shift_range=0.2,\n",
        "    height_shift_range=0.2,\n",
        "    shear_range=0.2,\n",
        "    zoom_range=0.2,\n",
        "    horizontal_flip=True)\n",
        "\n",
        "validation_datagen = ImageDataGenerator(rescale=1./255., validation_split=0.2)\n",
        "\n",
        "test_datagen = ImageDataGenerator(rescale=1./255.)"
      ],
      "execution_count": 6,
      "outputs": []
    },
    {
      "cell_type": "markdown",
      "metadata": {
        "id": "97reh_oxPe2U"
      },
      "source": [
        "* .flow_from_directory() 메서드를 이용하여 학습데이터와 검증데이터를 위한 DirectoryIterator 객체 생성"
      ]
    },
    {
      "cell_type": "code",
      "metadata": {
        "id": "aEHvzPOwBJp1",
        "colab": {
          "base_uri": "https://localhost:8080/"
        },
        "outputId": "ad496754-097c-4864-c796-2167c1053ef4"
      },
      "source": [
        "train_generator = train_datagen.flow_from_directory(\n",
        "    train_dir,\n",
        "    target_size=(150, 150),\n",
        "    batch_size=32,\n",
        "    shuffle=True,\n",
        "    class_mode='categorical'\n",
        ")\n",
        "\n",
        "validation_generator = validation_datagen.flow_from_directory(\n",
        "    train_dir,\n",
        "    target_size=(150, 150),\n",
        "    batch_size=32,\n",
        "    shuffle=True,\n",
        "    class_mode='categorical',\n",
        "    subset='validation'\n",
        ")\n",
        "\n",
        "test_generator = test_datagen.flow_from_directory(\n",
        "    test_dir,\n",
        "    target_size=(150, 150),\n",
        "    batch_size=32,\n",
        "    class_mode='categorical'\n",
        ")"
      ],
      "execution_count": 7,
      "outputs": [
        {
          "output_type": "stream",
          "name": "stdout",
          "text": [
            "Found 2520 images belonging to 3 classes.\n",
            "Found 504 images belonging to 3 classes.\n",
            "Found 372 images belonging to 3 classes.\n"
          ]
        }
      ]
    },
    {
      "cell_type": "markdown",
      "metadata": {
        "id": "2xE1fshxPlpX"
      },
      "source": [
        "### Step 2. CNN 모델 디자인 및 학습 정보 설정"
      ]
    },
    {
      "cell_type": "markdown",
      "metadata": {
        "id": "9eRU8I11PpoZ"
      },
      "source": [
        "(1) CNN 모델 구성"
      ]
    },
    {
      "cell_type": "code",
      "metadata": {
        "id": "A2c9fqg9u6wU"
      },
      "source": [
        "model = keras.Sequential()\n",
        "model.add(keras.layers.Conv2D(32, (3, 3), activation='relu',\n",
        "                        input_shape=(150, 150, 3)))\n",
        "model.add(keras.layers.MaxPooling2D((2, 2)))\n",
        "model.add(keras.layers.Conv2D(64, (3, 3), activation='relu'))\n",
        "model.add(keras.layers.MaxPooling2D((2, 2)))\n",
        "model.add(keras.layers.Conv2D(128, (3, 3), activation='relu'))\n",
        "model.add(keras.layers.MaxPooling2D((2, 2)))\n",
        "model.add(keras.layers.Conv2D(128, (3, 3), activation='relu'))\n",
        "model.add(keras.layers.MaxPooling2D((2, 2)))\n",
        "\n",
        "model.add(keras.layers.Flatten())\n",
        "model.add(keras.layers.Dense(512, activation='relu'))\n",
        "model.add(keras.layers.Dense(3, activation='sigmoid'))"
      ],
      "execution_count": 8,
      "outputs": []
    },
    {
      "cell_type": "markdown",
      "metadata": {
        "id": "m9HvXu_PP5CR"
      },
      "source": [
        "(2) 학습을 위한 설정 정보 지정"
      ]
    },
    {
      "cell_type": "code",
      "metadata": {
        "id": "G6IdqQtWL1dM"
      },
      "source": [
        "model.compile(loss='categorical_crossentropy',\n",
        "              optimizer='rmsprop',\n",
        "              metrics=['accuracy'])"
      ],
      "execution_count": 9,
      "outputs": []
    },
    {
      "cell_type": "markdown",
      "metadata": {
        "id": "RdpYcivWP9UB"
      },
      "source": [
        "### Step 3. 모델에 데이터 generator 연결 후 학습 \n",
        "  * model.fit() 이용하여 데이터 연결 및 학습시키기"
      ]
    },
    {
      "cell_type": "code",
      "metadata": {
        "id": "SN_cR_vEvIZZ",
        "colab": {
          "base_uri": "https://localhost:8080/"
        },
        "outputId": "a914e396-4e18-4a5d-922d-12a1d4b37229"
      },
      "source": [
        "history = model.fit(\n",
        "      train_generator,\n",
        "      steps_per_epoch=len(train_generator),\n",
        "      epochs=10,\n",
        "      validation_data=validation_generator,\n",
        "      validation_steps=len(validation_generator))"
      ],
      "execution_count": 10,
      "outputs": [
        {
          "output_type": "stream",
          "name": "stdout",
          "text": [
            "Epoch 1/10\n",
            "79/79 [==============================] - 54s 305ms/step - loss: 1.3381 - accuracy: 0.4167 - val_loss: 0.9447 - val_accuracy: 0.4742\n",
            "Epoch 2/10\n",
            "79/79 [==============================] - 23s 291ms/step - loss: 0.8479 - accuracy: 0.6032 - val_loss: 0.4804 - val_accuracy: 0.8194\n",
            "Epoch 3/10\n",
            "79/79 [==============================] - 24s 297ms/step - loss: 0.5107 - accuracy: 0.8048 - val_loss: 0.3357 - val_accuracy: 0.8988\n",
            "Epoch 4/10\n",
            "79/79 [==============================] - 24s 300ms/step - loss: 0.3320 - accuracy: 0.8821 - val_loss: 0.1423 - val_accuracy: 0.9643\n",
            "Epoch 5/10\n",
            "79/79 [==============================] - 24s 297ms/step - loss: 0.2482 - accuracy: 0.9167 - val_loss: 0.7755 - val_accuracy: 0.5794\n",
            "Epoch 6/10\n",
            "79/79 [==============================] - 24s 300ms/step - loss: 0.1981 - accuracy: 0.9329 - val_loss: 0.0799 - val_accuracy: 0.9901\n",
            "Epoch 7/10\n",
            "79/79 [==============================] - 26s 324ms/step - loss: 0.1694 - accuracy: 0.9440 - val_loss: 0.0814 - val_accuracy: 0.9802\n",
            "Epoch 8/10\n",
            "79/79 [==============================] - 25s 311ms/step - loss: 0.1307 - accuracy: 0.9583 - val_loss: 0.0339 - val_accuracy: 0.9960\n",
            "Epoch 9/10\n",
            "79/79 [==============================] - 25s 313ms/step - loss: 0.1330 - accuracy: 0.9615 - val_loss: 0.0444 - val_accuracy: 0.9821\n",
            "Epoch 10/10\n",
            "79/79 [==============================] - 25s 322ms/step - loss: 0.1094 - accuracy: 0.9623 - val_loss: 0.1254 - val_accuracy: 0.9405\n"
          ]
        }
      ]
    },
    {
      "cell_type": "markdown",
      "metadata": {
        "id": "RYQnScauRf2l"
      },
      "source": [
        "### Step 4. 테스트 데이터 셋을 통한 모델의 성능 평가"
      ]
    },
    {
      "cell_type": "code",
      "metadata": {
        "id": "WhdByEOaL8zO",
        "colab": {
          "base_uri": "https://localhost:8080/"
        },
        "outputId": "3ea01021-6809-48e3-ff5d-46229e86426d"
      },
      "source": [
        "loss, accuracy = model.evaluate(test_generator)"
      ],
      "execution_count": 11,
      "outputs": [
        {
          "output_type": "stream",
          "name": "stdout",
          "text": [
            "12/12 [==============================] - 2s 146ms/step - loss: 0.0293 - accuracy: 0.9812\n"
          ]
        }
      ]
    },
    {
      "cell_type": "code",
      "metadata": {
        "id": "mmr8cLeEnkj4"
      },
      "source": [
        ""
      ],
      "execution_count": 11,
      "outputs": []
    }
  ]
}